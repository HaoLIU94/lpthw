{
 "cells": [
  {
   "cell_type": "code",
   "execution_count": 17,
   "metadata": {
    "collapsed": true,
    "scrolled": true
   },
   "outputs": [],
   "source": [
    "import numpy as np\n",
    "from keras.models import Sequential\n",
    "from keras.layers import Dense"
   ]
  },
  {
   "cell_type": "code",
   "execution_count": 12,
   "metadata": {
    "collapsed": true
   },
   "outputs": [],
   "source": [
    "data = np.random.random((1000,100))\n",
    "labels = np.random.randint(2,size=(1000,1))"
   ]
  },
  {
   "cell_type": "code",
   "execution_count": 32,
   "metadata": {},
   "outputs": [
    {
     "data": {
      "text/plain": [
       "[array([[-0.21087047, -0.06631017,  0.03380451, ..., -0.04508503,\n",
       "          0.0889124 ,  0.10323408],\n",
       "        [ 0.11271283,  0.15642223, -0.15650874, ..., -0.03629233,\n",
       "         -0.00167549,  0.04741567],\n",
       "        [-0.08505914, -0.12556139, -0.12926251, ..., -0.08695757,\n",
       "          0.00275083,  0.15571243],\n",
       "        ..., \n",
       "        [-0.09528304, -0.08575502, -0.01096441, ..., -0.06684206,\n",
       "         -0.15356877,  0.00810562],\n",
       "        [ 0.10542434, -0.16341998,  0.12402639, ..., -0.00869414,\n",
       "         -0.0685197 , -0.03022869],\n",
       "        [-0.15309268,  0.16663137, -0.16059656, ...,  0.085839  ,\n",
       "         -0.1075479 , -0.10453703]], dtype=float32),\n",
       " array([ 0.,  0.,  0.,  0.,  0.,  0.,  0.,  0.,  0.,  0.,  0.,  0.,  0.,\n",
       "         0.,  0.,  0.,  0.,  0.,  0.,  0.,  0.,  0.,  0.,  0.,  0.,  0.,\n",
       "         0.,  0.,  0.,  0.,  0.,  0.], dtype=float32),\n",
       " array([[ 0.34645563],\n",
       "        [ 0.18759167],\n",
       "        [-0.33493805],\n",
       "        [ 0.198232  ],\n",
       "        [ 0.10629183],\n",
       "        [ 0.13035828],\n",
       "        [-0.275951  ],\n",
       "        [-0.40336686],\n",
       "        [-0.28933299],\n",
       "        [ 0.37473243],\n",
       "        [-0.12887877],\n",
       "        [ 0.08103764],\n",
       "        [-0.13741848],\n",
       "        [ 0.04443535],\n",
       "        [ 0.15050769],\n",
       "        [-0.31125334],\n",
       "        [ 0.32148319],\n",
       "        [-0.32733351],\n",
       "        [ 0.15903723],\n",
       "        [-0.12547982],\n",
       "        [-0.3442381 ],\n",
       "        [-0.35665113],\n",
       "        [ 0.05551133],\n",
       "        [-0.24619676],\n",
       "        [ 0.30530429],\n",
       "        [-0.22130816],\n",
       "        [-0.38122669],\n",
       "        [ 0.10274941],\n",
       "        [ 0.21590745],\n",
       "        [-0.20148905],\n",
       "        [-0.41792253],\n",
       "        [ 0.04402688]], dtype=float32),\n",
       " array([ 0.], dtype=float32)]"
      ]
     },
     "execution_count": 32,
     "metadata": {},
     "output_type": "execute_result"
    }
   ],
   "source": [
    "model.get_weights()"
   ]
  },
  {
   "cell_type": "code",
   "execution_count": 18,
   "metadata": {},
   "outputs": [],
   "source": [
    "model = Sequential()\n",
    "model.add(Dense(32,activation='relu',input_dim=100))\n",
    "model.add(Dense(1,activation='sigmoid'))\n",
    "model.compile(optimizer='rmsprop',loss='binary_crossentropy',metrics=['accuracy'])       "
   ]
  },
  {
   "cell_type": "code",
   "execution_count": 17,
   "metadata": {},
   "outputs": [
    {
     "name": "stdout",
     "output_type": "stream",
     "text": [
      "Epoch 1/10\n",
      "1000/1000 [==============================] - 0s - loss: 0.7157 - acc: 0.5070     \n",
      "Epoch 2/10\n",
      "1000/1000 [==============================] - 0s - loss: 0.6982 - acc: 0.5090     \n",
      "Epoch 3/10\n",
      "1000/1000 [==============================] - 0s - loss: 0.6917 - acc: 0.5290     \n",
      "Epoch 4/10\n",
      "1000/1000 [==============================] - 0s - loss: 0.6915 - acc: 0.5130     \n",
      "Epoch 5/10\n",
      "1000/1000 [==============================] - 0s - loss: 0.6877 - acc: 0.5350     \n",
      "Epoch 6/10\n",
      "1000/1000 [==============================] - 0s - loss: 0.6843 - acc: 0.5430     \n",
      "Epoch 7/10\n",
      "1000/1000 [==============================] - 0s - loss: 0.6798 - acc: 0.5690     \n",
      "Epoch 8/10\n",
      "1000/1000 [==============================] - 0s - loss: 0.6765 - acc: 0.5800     \n",
      "Epoch 9/10\n",
      "1000/1000 [==============================] - 0s - loss: 0.6743 - acc: 0.5790     \n",
      "Epoch 10/10\n",
      "1000/1000 [==============================] - 0s - loss: 0.6695 - acc: 0.5900     \n"
     ]
    },
    {
     "data": {
      "text/plain": [
       "<keras.callbacks.History at 0x7f0fa2906d90>"
      ]
     },
     "execution_count": 17,
     "metadata": {},
     "output_type": "execute_result"
    }
   ],
   "source": [
    "model.fit(data,labels,epochs=10,batch_size=32)   "
   ]
  },
  {
   "cell_type": "code",
   "execution_count": 18,
   "metadata": {
    "collapsed": true
   },
   "outputs": [],
   "source": [
    "predictions = model.predict(data)"
   ]
  },
  {
   "cell_type": "code",
   "execution_count": 20,
   "metadata": {},
   "outputs": [
    {
     "data": {
      "text/plain": [
       "numpy.ndarray"
      ]
     },
     "execution_count": 20,
     "metadata": {},
     "output_type": "execute_result"
    }
   ],
   "source": [
    "type (predictions)"
   ]
  },
  {
   "cell_type": "code",
   "execution_count": 1,
   "metadata": {},
   "outputs": [
    {
     "name": "stderr",
     "output_type": "stream",
     "text": [
      "Using TensorFlow backend.\n"
     ]
    }
   ],
   "source": [
    "from keras.datasets import boston_housing,mnist,cifar10,imdb\n",
    "num_classes = 10"
   ]
  },
  {
   "cell_type": "code",
   "execution_count": 5,
   "metadata": {},
   "outputs": [
    {
     "name": "stdout",
     "output_type": "stream",
     "text": [
      "Downloading data from https://s3.amazonaws.com/text-datasets/imdb.npz\n"
     ]
    }
   ],
   "source": [
    "(x_train2,y_train2),(x_test2,y_test2) = boston_housing.load_data()\n",
    "(x_train3,y_train3),(x_test3,y_test3) = cifar10.load_data()\n",
    "(x_train4,y_train4),(x_test4,y_test4) = imdb.load_data()"
   ]
  },
  {
   "cell_type": "code",
   "execution_count": 14,
   "metadata": {},
   "outputs": [
    {
     "data": {
      "text/plain": [
       "array([[   15,   256,     4, 31050,     7,  3766,     5,   723,    36,\n",
       "           71,    43,   530,   476,    26,   400,   317,    46,     7,\n",
       "            4, 12118,  1029,    13,   104,    88,     4,   381,    15,\n",
       "          297,    98,    32,  2071,    56,    26,   141,     6,   194,\n",
       "         7486,    18,     4,   226,    22,    21,   134,   476,    26,\n",
       "          480,     5,   144,    30,  5535,    18,    51,    36,    28,\n",
       "          224,    92,    25,   104,     4,   226,    65,    16,    38,\n",
       "         1334,    88,    12,    16,   283,     5,    16,  4472,   113,\n",
       "          103,    32,    15,    16,  5345,    19,   178,    32],\n",
       "       [  125,    68, 23141,  6853,    15,   349,   165,  4362,    98,\n",
       "            5,     4,   228,     9,    43, 36893,  1157,    15,   299,\n",
       "          120,     5,   120,   174,    11,   220,   175,   136,    50,\n",
       "            9,  4373,   228,  8255,     5, 25249,   656,   245,  2350,\n",
       "            5,     4,  9837,   131,   152,   491,    18, 46151,    32,\n",
       "         7464,  1212,    14,     9,     6,   371,    78,    22,   625,\n",
       "           64,  1382,     9,     8,   168,   145,    23,     4,  1690,\n",
       "           15,    16,     4,  1355,     5,    28,     6,    52,   154,\n",
       "          462,    33,    89,    78,   285,    16,   145,    95],\n",
       "       [  645,   662,     8,   257,    85,  1200,    42,  1228,  2578,\n",
       "           83,    68,  3912,    15,    36,   165,  1539,   278,    36,\n",
       "           69, 44076,   780,     8,   106,    14,  6905,  1338,    18,\n",
       "            6,    22,    12,   215,    28,   610,    40,     6,    87,\n",
       "          326,    23,  2300,    21,    23,    22,    12,   272,    40,\n",
       "           57,    31,    11,     4,    22,    47,     6,  2307,    51,\n",
       "            9,   170,    23,   595,   116,   595,  1352,    13,   191,\n",
       "           79,   638,    89, 51428,    14,     9,     8,   106,   607,\n",
       "          624,    35,   534,     6,   227,     7,   129,   113],\n",
       "       [33195,    14,   280,    13,   219,     4, 52788,   431,   758,\n",
       "          859,     4,   953,  1052, 12283,     7,  5991,     5,    94,\n",
       "           40,    25,   238,    60, 35410,     4, 15812,   804, 27767,\n",
       "            7,     4,  9941,   132,     8,    67,     6,    22,    15,\n",
       "            9,   283,     8,  5168,    14,    31,     9,   242,   955,\n",
       "           48,    25,   279, 22148,    23,    12,  1685,   195,    25,\n",
       "          238,    60,   796, 13713,     4,   671,     7,  2804,     5,\n",
       "            4,   559,   154,   888,     7,   726,    50,    26,    49,\n",
       "         7008,    15,   566,    30,   579,    21,    64,  2574],\n",
       "       [   56,   429,     6,  1513,    18,    35,   534,    95,   474,\n",
       "          570,     5,    25,   124,   138,    88,    12,   421,  1543,\n",
       "           52,   725,  6397,    61,   419,    11,    13,  1571,    15,\n",
       "         1543,    20,    11,     4, 22016,     5,   296,    12,  3524,\n",
       "            5,    15,   421,   128,    74,   233,   334,   207,   126,\n",
       "          224,    12,   562,   298,  2167,  1272,     7,  2601,     5,\n",
       "          516,   988,    43,     8,    79,   120,    15,   595,    13,\n",
       "          784,    25,  3171,    18,   165,   170,   143,    19,    14,\n",
       "            5,  7224,     6,   226,   251,     7,    61,   113]], dtype=int32)"
      ]
     },
     "execution_count": 14,
     "metadata": {},
     "output_type": "execute_result"
    }
   ],
   "source": [
    "x_train4[:5]"
   ]
  },
  {
   "cell_type": "code",
   "execution_count": 6,
   "metadata": {},
   "outputs": [],
   "source": [
    "from keras.preprocessing import sequence\n",
    "x_train4 = sequence.pad_sequences(x_train4,maxlen=80)\n",
    "x_test4 = sequence.pad_sequences(x_test4,maxlen=80)"
   ]
  },
  {
   "cell_type": "code",
   "execution_count": 7,
   "metadata": {
    "collapsed": true
   },
   "outputs": [],
   "source": [
    "from keras.utils import to_categorical\n",
    "Y_train3 = to_categorical(y_train3,num_classes)\n",
    "Y_test3 = to_categorical(y_test3,num_classes)"
   ]
  }
 ],
 "metadata": {
  "kernelspec": {
   "display_name": "Python 2",
   "language": "python",
   "name": "python2"
  },
  "language_info": {
   "codemirror_mode": {
    "name": "ipython",
    "version": 2
   },
   "file_extension": ".py",
   "mimetype": "text/x-python",
   "name": "python",
   "nbconvert_exporter": "python",
   "pygments_lexer": "ipython2",
   "version": "2.7.13"
  }
 },
 "nbformat": 4,
 "nbformat_minor": 2
}
