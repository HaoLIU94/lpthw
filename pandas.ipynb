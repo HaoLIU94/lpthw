{
 "cells": [
  {
   "cell_type": "code",
   "execution_count": 14,
   "metadata": {
    "collapsed": true
   },
   "outputs": [],
   "source": [
    "import pandas as pd\n",
    "import numpy as np\n",
    "import matplotlib.pyplot as plt"
   ]
  },
  {
   "cell_type": "code",
   "execution_count": 15,
   "metadata": {},
   "outputs": [
    {
     "data": {
      "text/plain": [
       "0    0.149925\n",
       "1    0.466788\n",
       "2   -1.362931\n",
       "3   -0.087903\n",
       "4   -2.762455\n",
       "dtype: float64"
      ]
     },
     "execution_count": 15,
     "metadata": {},
     "output_type": "execute_result"
    }
   ],
   "source": [
    "s = pd.Series(np.random.randn(5), index=['a', 'b', 'c', 'd', 'e'])\n",
    "pd.Series(np.random.randn(5))"
   ]
  },
  {
   "cell_type": "code",
   "execution_count": 16,
   "metadata": {},
   "outputs": [
    {
     "name": "stdout",
     "output_type": "stream",
     "text": [
      "Index([u'a', u'b', u'c', u'd', u'e'], dtype='object')\n"
     ]
    }
   ],
   "source": [
    "print s.index"
   ]
  },
  {
   "cell_type": "code",
   "execution_count": 17,
   "metadata": {},
   "outputs": [
    {
     "data": {
      "text/plain": [
       "b    1.0\n",
       "c    2.0\n",
       "d    NaN\n",
       "a    0.0\n",
       "dtype: float64"
      ]
     },
     "execution_count": 17,
     "metadata": {},
     "output_type": "execute_result"
    }
   ],
   "source": [
    "d = {'a' : 0., 'b' : 1., 'c' : 2.}\n",
    "pd.Series(d)\n",
    "pd.Series(d, index=['b', 'c', 'd', 'a'])"
   ]
  },
  {
   "cell_type": "code",
   "execution_count": 18,
   "metadata": {},
   "outputs": [
    {
     "data": {
      "text/plain": [
       "a    1.33\n",
       "b    1.33\n",
       "c    1.33\n",
       "d    1.33\n",
       "e    1.33\n",
       "dtype: float64"
      ]
     },
     "execution_count": 18,
     "metadata": {},
     "output_type": "execute_result"
    }
   ],
   "source": [
    "pd.Series(1.33, index=['a', 'b', 'c', 'd', 'e'])"
   ]
  },
  {
   "cell_type": "code",
   "execution_count": 19,
   "metadata": {
    "scrolled": true
   },
   "outputs": [
    {
     "name": "stdout",
     "output_type": "stream",
     "text": [
      "a    0.492710\n",
      "b   -0.108781\n",
      "c   -1.568629\n",
      "dtype: float64\n"
     ]
    }
   ],
   "source": [
    "print s[0:3]"
   ]
  },
  {
   "cell_type": "code",
   "execution_count": 20,
   "metadata": {
    "scrolled": true
   },
   "outputs": [
    {
     "data": {
      "text/plain": [
       "a    1.636745\n",
       "b    0.896927\n",
       "c    0.208331\n",
       "d    4.113006\n",
       "e    0.257848\n",
       "dtype: float64"
      ]
     },
     "execution_count": 20,
     "metadata": {},
     "output_type": "execute_result"
    }
   ],
   "source": [
    "np.exp(s)"
   ]
  },
  {
   "cell_type": "code",
   "execution_count": 21,
   "metadata": {},
   "outputs": [
    {
     "data": {
      "text/plain": [
       "False"
      ]
     },
     "execution_count": 21,
     "metadata": {},
     "output_type": "execute_result"
    }
   ],
   "source": [
    "-1.438884 in s"
   ]
  },
  {
   "cell_type": "code",
   "execution_count": 22,
   "metadata": {
    "collapsed": true
   },
   "outputs": [],
   "source": [
    "d = {'one' : pd.Series([1., 2., 3.], index=['a', 'b', 'c']),\n",
    "     'two' : pd.Series([1., 2., 3., 4.], index=['a', 'b', 'c', 'd'])}"
   ]
  },
  {
   "cell_type": "code",
   "execution_count": 23,
   "metadata": {},
   "outputs": [
    {
     "data": {
      "text/html": [
       "<div>\n",
       "<style>\n",
       "    .dataframe thead tr:only-child th {\n",
       "        text-align: right;\n",
       "    }\n",
       "\n",
       "    .dataframe thead th {\n",
       "        text-align: left;\n",
       "    }\n",
       "\n",
       "    .dataframe tbody tr th {\n",
       "        vertical-align: top;\n",
       "    }\n",
       "</style>\n",
       "<table border=\"1\" class=\"dataframe\">\n",
       "  <thead>\n",
       "    <tr style=\"text-align: right;\">\n",
       "      <th></th>\n",
       "      <th>one</th>\n",
       "      <th>two</th>\n",
       "    </tr>\n",
       "  </thead>\n",
       "  <tbody>\n",
       "    <tr>\n",
       "      <th>d</th>\n",
       "      <td>NaN</td>\n",
       "      <td>4.0</td>\n",
       "    </tr>\n",
       "    <tr>\n",
       "      <th>b</th>\n",
       "      <td>2.0</td>\n",
       "      <td>2.0</td>\n",
       "    </tr>\n",
       "    <tr>\n",
       "      <th>a</th>\n",
       "      <td>1.0</td>\n",
       "      <td>1.0</td>\n",
       "    </tr>\n",
       "  </tbody>\n",
       "</table>\n",
       "</div>"
      ],
      "text/plain": [
       "   one  two\n",
       "d  NaN  4.0\n",
       "b  2.0  2.0\n",
       "a  1.0  1.0"
      ]
     },
     "execution_count": 23,
     "metadata": {},
     "output_type": "execute_result"
    }
   ],
   "source": [
    "df = pd.DataFrame(d)\n",
    "pd.DataFrame(d, index=['d', 'b', 'a'])\n",
    "#pd.DataFrame(d, index=['d', 'b', 'a'], columns=['two', 'three'])"
   ]
  },
  {
   "cell_type": "code",
   "execution_count": 24,
   "metadata": {},
   "outputs": [
    {
     "data": {
      "text/plain": [
       "Index([u'a', u'b', u'c', u'd'], dtype='object')"
      ]
     },
     "execution_count": 24,
     "metadata": {},
     "output_type": "execute_result"
    }
   ],
   "source": [
    "df.index"
   ]
  },
  {
   "cell_type": "code",
   "execution_count": 25,
   "metadata": {},
   "outputs": [
    {
     "data": {
      "text/plain": [
       "Index([u'one', u'two'], dtype='object')"
      ]
     },
     "execution_count": 25,
     "metadata": {},
     "output_type": "execute_result"
    }
   ],
   "source": [
    "df.columns"
   ]
  },
  {
   "cell_type": "code",
   "execution_count": 26,
   "metadata": {
    "collapsed": true
   },
   "outputs": [],
   "source": [
    "d = {'one' : [1., 2., 3., 4.],\n",
    "     'two' : [4., 3., 2., 1.]}"
   ]
  },
  {
   "cell_type": "code",
   "execution_count": 49,
   "metadata": {},
   "outputs": [
    {
     "data": {
      "text/plain": [
       "Index([u'one', u'two'], dtype='object')"
      ]
     },
     "execution_count": 49,
     "metadata": {},
     "output_type": "execute_result"
    }
   ],
   "source": [
    "d = pd.DataFrame(d)\n",
    "d.columns"
   ]
  },
  {
   "cell_type": "code",
   "execution_count": 50,
   "metadata": {
    "collapsed": true
   },
   "outputs": [],
   "source": [
    "data = pd.read_csv('data_sheet.csv')"
   ]
  },
  {
   "cell_type": "code",
   "execution_count": 51,
   "metadata": {},
   "outputs": [
    {
     "data": {
      "text/html": [
       "<div>\n",
       "<style>\n",
       "    .dataframe thead tr:only-child th {\n",
       "        text-align: right;\n",
       "    }\n",
       "\n",
       "    .dataframe thead th {\n",
       "        text-align: left;\n",
       "    }\n",
       "\n",
       "    .dataframe tbody tr th {\n",
       "        vertical-align: top;\n",
       "    }\n",
       "</style>\n",
       "<table border=\"1\" class=\"dataframe\">\n",
       "  <thead>\n",
       "    <tr style=\"text-align: right;\">\n",
       "      <th></th>\n",
       "      <th>media_height</th>\n",
       "      <th>media_width</th>\n",
       "      <th>media_type</th>\n",
       "      <th>media_waste</th>\n",
       "      <th>mode_name</th>\n",
       "      <th>print_height</th>\n",
       "      <th>print_width</th>\n",
       "      <th>print_id</th>\n",
       "      <th>R</th>\n",
       "      <th>G</th>\n",
       "      <th>B</th>\n",
       "      <th>width</th>\n",
       "      <th>height</th>\n",
       "      <th>w/h</th>\n",
       "      <th>size</th>\n",
       "      <th>print_time_sec</th>\n",
       "    </tr>\n",
       "  </thead>\n",
       "  <tbody>\n",
       "    <tr>\n",
       "      <th>0</th>\n",
       "      <td>1176.558277</td>\n",
       "      <td>1799.993708</td>\n",
       "      <td>2</td>\n",
       "      <td>0.122211</td>\n",
       "      <td>2</td>\n",
       "      <td>1176.558277</td>\n",
       "      <td>1580.014569</td>\n",
       "      <td>2</td>\n",
       "      <td>19896936</td>\n",
       "      <td>19653224</td>\n",
       "      <td>19054532</td>\n",
       "      <td>300</td>\n",
       "      <td>200</td>\n",
       "      <td>1.500000</td>\n",
       "      <td>15</td>\n",
       "      <td>137</td>\n",
       "    </tr>\n",
       "    <tr>\n",
       "      <th>1</th>\n",
       "      <td>659.892000</td>\n",
       "      <td>1800.013342</td>\n",
       "      <td>1</td>\n",
       "      <td>0.183349</td>\n",
       "      <td>1</td>\n",
       "      <td>659.892000</td>\n",
       "      <td>1469.982658</td>\n",
       "      <td>1</td>\n",
       "      <td>6212242</td>\n",
       "      <td>5149128</td>\n",
       "      <td>4687048</td>\n",
       "      <td>300</td>\n",
       "      <td>128</td>\n",
       "      <td>2.343750</td>\n",
       "      <td>15</td>\n",
       "      <td>37</td>\n",
       "    </tr>\n",
       "    <tr>\n",
       "      <th>2</th>\n",
       "      <td>639.995342</td>\n",
       "      <td>1800.013342</td>\n",
       "      <td>1</td>\n",
       "      <td>0.183349</td>\n",
       "      <td>1</td>\n",
       "      <td>639.995342</td>\n",
       "      <td>1469.982658</td>\n",
       "      <td>1</td>\n",
       "      <td>22819680</td>\n",
       "      <td>22865034</td>\n",
       "      <td>23120307</td>\n",
       "      <td>237</td>\n",
       "      <td>300</td>\n",
       "      <td>0.790000</td>\n",
       "      <td>16</td>\n",
       "      <td>34</td>\n",
       "    </tr>\n",
       "    <tr>\n",
       "      <th>3</th>\n",
       "      <td>711.115901</td>\n",
       "      <td>1799.993708</td>\n",
       "      <td>2</td>\n",
       "      <td>0.166671</td>\n",
       "      <td>2</td>\n",
       "      <td>711.115901</td>\n",
       "      <td>1499.987754</td>\n",
       "      <td>2</td>\n",
       "      <td>26260172</td>\n",
       "      <td>24631312</td>\n",
       "      <td>25112380</td>\n",
       "      <td>232</td>\n",
       "      <td>300</td>\n",
       "      <td>0.773333</td>\n",
       "      <td>19</td>\n",
       "      <td>61</td>\n",
       "    </tr>\n",
       "    <tr>\n",
       "      <th>4</th>\n",
       "      <td>753.042715</td>\n",
       "      <td>1799.993708</td>\n",
       "      <td>3</td>\n",
       "      <td>0.122211</td>\n",
       "      <td>3</td>\n",
       "      <td>753.042715</td>\n",
       "      <td>1580.014569</td>\n",
       "      <td>3</td>\n",
       "      <td>12141630</td>\n",
       "      <td>10033684</td>\n",
       "      <td>9953656</td>\n",
       "      <td>300</td>\n",
       "      <td>128</td>\n",
       "      <td>2.343750</td>\n",
       "      <td>17</td>\n",
       "      <td>121</td>\n",
       "    </tr>\n",
       "  </tbody>\n",
       "</table>\n",
       "</div>"
      ],
      "text/plain": [
       "   media_height  media_width  media_type  media_waste  mode_name  \\\n",
       "0   1176.558277  1799.993708           2     0.122211          2   \n",
       "1    659.892000  1800.013342           1     0.183349          1   \n",
       "2    639.995342  1800.013342           1     0.183349          1   \n",
       "3    711.115901  1799.993708           2     0.166671          2   \n",
       "4    753.042715  1799.993708           3     0.122211          3   \n",
       "\n",
       "   print_height  print_width  print_id         R         G         B  width  \\\n",
       "0   1176.558277  1580.014569         2  19896936  19653224  19054532    300   \n",
       "1    659.892000  1469.982658         1   6212242   5149128   4687048    300   \n",
       "2    639.995342  1469.982658         1  22819680  22865034  23120307    237   \n",
       "3    711.115901  1499.987754         2  26260172  24631312  25112380    232   \n",
       "4    753.042715  1580.014569         3  12141630  10033684   9953656    300   \n",
       "\n",
       "   height       w/h  size  print_time_sec  \n",
       "0     200  1.500000    15             137  \n",
       "1     128  2.343750    15              37  \n",
       "2     300  0.790000    16              34  \n",
       "3     300  0.773333    19              61  \n",
       "4     128  2.343750    17             121  "
      ]
     },
     "execution_count": 51,
     "metadata": {},
     "output_type": "execute_result"
    }
   ],
   "source": [
    "data.head()"
   ]
  },
  {
   "cell_type": "code",
   "execution_count": 53,
   "metadata": {
    "scrolled": true
   },
   "outputs": [
    {
     "data": {
      "text/html": [
       "<div>\n",
       "<style>\n",
       "    .dataframe thead tr:only-child th {\n",
       "        text-align: right;\n",
       "    }\n",
       "\n",
       "    .dataframe thead th {\n",
       "        text-align: left;\n",
       "    }\n",
       "\n",
       "    .dataframe tbody tr th {\n",
       "        vertical-align: top;\n",
       "    }\n",
       "</style>\n",
       "<table border=\"1\" class=\"dataframe\">\n",
       "  <thead>\n",
       "    <tr style=\"text-align: right;\">\n",
       "      <th></th>\n",
       "      <th>media_height</th>\n",
       "      <th>media_width</th>\n",
       "      <th>media_type</th>\n",
       "      <th>media_waste</th>\n",
       "      <th>mode_name</th>\n",
       "      <th>print_height</th>\n",
       "      <th>print_width</th>\n",
       "      <th>print_id</th>\n",
       "      <th>R</th>\n",
       "      <th>G</th>\n",
       "      <th>B</th>\n",
       "      <th>width</th>\n",
       "      <th>height</th>\n",
       "      <th>w/h</th>\n",
       "      <th>size</th>\n",
       "      <th>print_time_sec</th>\n",
       "      <th>WH</th>\n",
       "    </tr>\n",
       "  </thead>\n",
       "  <tbody>\n",
       "    <tr>\n",
       "      <th>0</th>\n",
       "      <td>1176.558277</td>\n",
       "      <td>1799.993708</td>\n",
       "      <td>2</td>\n",
       "      <td>0.122211</td>\n",
       "      <td>2</td>\n",
       "      <td>1176.558277</td>\n",
       "      <td>1580.014569</td>\n",
       "      <td>2</td>\n",
       "      <td>19896936</td>\n",
       "      <td>19653224</td>\n",
       "      <td>19054532</td>\n",
       "      <td>300</td>\n",
       "      <td>200</td>\n",
       "      <td>1.500000</td>\n",
       "      <td>15</td>\n",
       "      <td>137</td>\n",
       "      <td>1.500000</td>\n",
       "    </tr>\n",
       "    <tr>\n",
       "      <th>1</th>\n",
       "      <td>659.892000</td>\n",
       "      <td>1800.013342</td>\n",
       "      <td>1</td>\n",
       "      <td>0.183349</td>\n",
       "      <td>1</td>\n",
       "      <td>659.892000</td>\n",
       "      <td>1469.982658</td>\n",
       "      <td>1</td>\n",
       "      <td>6212242</td>\n",
       "      <td>5149128</td>\n",
       "      <td>4687048</td>\n",
       "      <td>300</td>\n",
       "      <td>128</td>\n",
       "      <td>2.343750</td>\n",
       "      <td>15</td>\n",
       "      <td>37</td>\n",
       "      <td>2.343750</td>\n",
       "    </tr>\n",
       "    <tr>\n",
       "      <th>2</th>\n",
       "      <td>639.995342</td>\n",
       "      <td>1800.013342</td>\n",
       "      <td>1</td>\n",
       "      <td>0.183349</td>\n",
       "      <td>1</td>\n",
       "      <td>639.995342</td>\n",
       "      <td>1469.982658</td>\n",
       "      <td>1</td>\n",
       "      <td>22819680</td>\n",
       "      <td>22865034</td>\n",
       "      <td>23120307</td>\n",
       "      <td>237</td>\n",
       "      <td>300</td>\n",
       "      <td>0.790000</td>\n",
       "      <td>16</td>\n",
       "      <td>34</td>\n",
       "      <td>0.790000</td>\n",
       "    </tr>\n",
       "    <tr>\n",
       "      <th>3</th>\n",
       "      <td>711.115901</td>\n",
       "      <td>1799.993708</td>\n",
       "      <td>2</td>\n",
       "      <td>0.166671</td>\n",
       "      <td>2</td>\n",
       "      <td>711.115901</td>\n",
       "      <td>1499.987754</td>\n",
       "      <td>2</td>\n",
       "      <td>26260172</td>\n",
       "      <td>24631312</td>\n",
       "      <td>25112380</td>\n",
       "      <td>232</td>\n",
       "      <td>300</td>\n",
       "      <td>0.773333</td>\n",
       "      <td>19</td>\n",
       "      <td>61</td>\n",
       "      <td>0.773333</td>\n",
       "    </tr>\n",
       "    <tr>\n",
       "      <th>4</th>\n",
       "      <td>753.042715</td>\n",
       "      <td>1799.993708</td>\n",
       "      <td>3</td>\n",
       "      <td>0.122211</td>\n",
       "      <td>3</td>\n",
       "      <td>753.042715</td>\n",
       "      <td>1580.014569</td>\n",
       "      <td>3</td>\n",
       "      <td>12141630</td>\n",
       "      <td>10033684</td>\n",
       "      <td>9953656</td>\n",
       "      <td>300</td>\n",
       "      <td>128</td>\n",
       "      <td>2.343750</td>\n",
       "      <td>17</td>\n",
       "      <td>121</td>\n",
       "      <td>2.343750</td>\n",
       "    </tr>\n",
       "  </tbody>\n",
       "</table>\n",
       "</div>"
      ],
      "text/plain": [
       "   media_height  media_width  media_type  media_waste  mode_name  \\\n",
       "0   1176.558277  1799.993708           2     0.122211          2   \n",
       "1    659.892000  1800.013342           1     0.183349          1   \n",
       "2    639.995342  1800.013342           1     0.183349          1   \n",
       "3    711.115901  1799.993708           2     0.166671          2   \n",
       "4    753.042715  1799.993708           3     0.122211          3   \n",
       "\n",
       "   print_height  print_width  print_id         R         G         B  width  \\\n",
       "0   1176.558277  1580.014569         2  19896936  19653224  19054532    300   \n",
       "1    659.892000  1469.982658         1   6212242   5149128   4687048    300   \n",
       "2    639.995342  1469.982658         1  22819680  22865034  23120307    237   \n",
       "3    711.115901  1499.987754         2  26260172  24631312  25112380    232   \n",
       "4    753.042715  1580.014569         3  12141630  10033684   9953656    300   \n",
       "\n",
       "   height       w/h  size  print_time_sec        WH  \n",
       "0     200  1.500000    15             137  1.500000  \n",
       "1     128  2.343750    15              37  2.343750  \n",
       "2     300  0.790000    16              34  0.790000  \n",
       "3     300  0.773333    19              61  0.773333  \n",
       "4     128  2.343750    17             121  2.343750  "
      ]
     },
     "execution_count": 53,
     "metadata": {},
     "output_type": "execute_result"
    }
   ],
   "source": [
    "data.assign(WH = data['width'] / data['height']).head()"
   ]
  },
  {
   "cell_type": "code",
   "execution_count": 55,
   "metadata": {
    "scrolled": true
   },
   "outputs": [
    {
     "data": {
      "text/html": [
       "<div>\n",
       "<style>\n",
       "    .dataframe thead tr:only-child th {\n",
       "        text-align: right;\n",
       "    }\n",
       "\n",
       "    .dataframe thead th {\n",
       "        text-align: left;\n",
       "    }\n",
       "\n",
       "    .dataframe tbody tr th {\n",
       "        vertical-align: top;\n",
       "    }\n",
       "</style>\n",
       "<table border=\"1\" class=\"dataframe\">\n",
       "  <thead>\n",
       "    <tr style=\"text-align: right;\">\n",
       "      <th></th>\n",
       "      <th>media_height</th>\n",
       "      <th>media_width</th>\n",
       "      <th>media_type</th>\n",
       "      <th>media_waste</th>\n",
       "      <th>mode_name</th>\n",
       "      <th>print_height</th>\n",
       "      <th>print_width</th>\n",
       "      <th>print_id</th>\n",
       "      <th>R</th>\n",
       "      <th>G</th>\n",
       "      <th>B</th>\n",
       "      <th>width</th>\n",
       "      <th>height</th>\n",
       "      <th>w/h</th>\n",
       "      <th>size</th>\n",
       "      <th>print_time_sec</th>\n",
       "      <th>W</th>\n",
       "    </tr>\n",
       "  </thead>\n",
       "  <tbody>\n",
       "    <tr>\n",
       "      <th>0</th>\n",
       "      <td>1176.558277</td>\n",
       "      <td>1799.993708</td>\n",
       "      <td>2</td>\n",
       "      <td>0.122211</td>\n",
       "      <td>2</td>\n",
       "      <td>1176.558277</td>\n",
       "      <td>1580.014569</td>\n",
       "      <td>2</td>\n",
       "      <td>19896936</td>\n",
       "      <td>19653224</td>\n",
       "      <td>19054532</td>\n",
       "      <td>300</td>\n",
       "      <td>200</td>\n",
       "      <td>1.500000</td>\n",
       "      <td>15</td>\n",
       "      <td>137</td>\n",
       "      <td>1.500000</td>\n",
       "    </tr>\n",
       "    <tr>\n",
       "      <th>1</th>\n",
       "      <td>659.892000</td>\n",
       "      <td>1800.013342</td>\n",
       "      <td>1</td>\n",
       "      <td>0.183349</td>\n",
       "      <td>1</td>\n",
       "      <td>659.892000</td>\n",
       "      <td>1469.982658</td>\n",
       "      <td>1</td>\n",
       "      <td>6212242</td>\n",
       "      <td>5149128</td>\n",
       "      <td>4687048</td>\n",
       "      <td>300</td>\n",
       "      <td>128</td>\n",
       "      <td>2.343750</td>\n",
       "      <td>15</td>\n",
       "      <td>37</td>\n",
       "      <td>2.343750</td>\n",
       "    </tr>\n",
       "    <tr>\n",
       "      <th>2</th>\n",
       "      <td>639.995342</td>\n",
       "      <td>1800.013342</td>\n",
       "      <td>1</td>\n",
       "      <td>0.183349</td>\n",
       "      <td>1</td>\n",
       "      <td>639.995342</td>\n",
       "      <td>1469.982658</td>\n",
       "      <td>1</td>\n",
       "      <td>22819680</td>\n",
       "      <td>22865034</td>\n",
       "      <td>23120307</td>\n",
       "      <td>237</td>\n",
       "      <td>300</td>\n",
       "      <td>0.790000</td>\n",
       "      <td>16</td>\n",
       "      <td>34</td>\n",
       "      <td>0.790000</td>\n",
       "    </tr>\n",
       "    <tr>\n",
       "      <th>3</th>\n",
       "      <td>711.115901</td>\n",
       "      <td>1799.993708</td>\n",
       "      <td>2</td>\n",
       "      <td>0.166671</td>\n",
       "      <td>2</td>\n",
       "      <td>711.115901</td>\n",
       "      <td>1499.987754</td>\n",
       "      <td>2</td>\n",
       "      <td>26260172</td>\n",
       "      <td>24631312</td>\n",
       "      <td>25112380</td>\n",
       "      <td>232</td>\n",
       "      <td>300</td>\n",
       "      <td>0.773333</td>\n",
       "      <td>19</td>\n",
       "      <td>61</td>\n",
       "      <td>0.773333</td>\n",
       "    </tr>\n",
       "    <tr>\n",
       "      <th>4</th>\n",
       "      <td>753.042715</td>\n",
       "      <td>1799.993708</td>\n",
       "      <td>3</td>\n",
       "      <td>0.122211</td>\n",
       "      <td>3</td>\n",
       "      <td>753.042715</td>\n",
       "      <td>1580.014569</td>\n",
       "      <td>3</td>\n",
       "      <td>12141630</td>\n",
       "      <td>10033684</td>\n",
       "      <td>9953656</td>\n",
       "      <td>300</td>\n",
       "      <td>128</td>\n",
       "      <td>2.343750</td>\n",
       "      <td>17</td>\n",
       "      <td>121</td>\n",
       "      <td>2.343750</td>\n",
       "    </tr>\n",
       "  </tbody>\n",
       "</table>\n",
       "</div>"
      ],
      "text/plain": [
       "   media_height  media_width  media_type  media_waste  mode_name  \\\n",
       "0   1176.558277  1799.993708           2     0.122211          2   \n",
       "1    659.892000  1800.013342           1     0.183349          1   \n",
       "2    639.995342  1800.013342           1     0.183349          1   \n",
       "3    711.115901  1799.993708           2     0.166671          2   \n",
       "4    753.042715  1799.993708           3     0.122211          3   \n",
       "\n",
       "   print_height  print_width  print_id         R         G         B  width  \\\n",
       "0   1176.558277  1580.014569         2  19896936  19653224  19054532    300   \n",
       "1    659.892000  1469.982658         1   6212242   5149128   4687048    300   \n",
       "2    639.995342  1469.982658         1  22819680  22865034  23120307    237   \n",
       "3    711.115901  1499.987754         2  26260172  24631312  25112380    232   \n",
       "4    753.042715  1580.014569         3  12141630  10033684   9953656    300   \n",
       "\n",
       "   height       w/h  size  print_time_sec         W  \n",
       "0     200  1.500000    15             137  1.500000  \n",
       "1     128  2.343750    15              37  2.343750  \n",
       "2     300  0.790000    16              34  0.790000  \n",
       "3     300  0.773333    19              61  0.773333  \n",
       "4     128  2.343750    17             121  2.343750  "
      ]
     },
     "execution_count": 55,
     "metadata": {},
     "output_type": "execute_result"
    }
   ],
   "source": [
    "data.assign(W = lambda x: (x['width'] / x['height'])).head()"
   ]
  },
  {
   "cell_type": "code",
   "execution_count": 73,
   "metadata": {
    "collapsed": true
   },
   "outputs": [],
   "source": [
    "plot=data.query('print_time_sec > 2').assign(w = lambda x: x.width / x.height, h = lambda x: x.width / x.height).plot(kind='bar', x='w', y='h')"
   ]
  },
  {
   "cell_type": "code",
   "execution_count": 74,
   "metadata": {
    "scrolled": true
   },
   "outputs": [
    {
     "data": {
      "image/png": "[encoded data removed]",
      "text/plain": [
       "<matplotlib.figure.Figure at 0x7fad2efff710>"
      ]
     },
     "metadata": {},
     "output_type": "display_data"
    }
   ],
   "source": [
    "plt.show()"
   ]
  },
  {
   "cell_type": "code",
   "execution_count": null,
   "metadata": {
    "collapsed": true,
    "scrolled": false
   },
   "outputs": [],
   "source": [
    "#data[:10]\n",
    "type(data)"
   ]
  },
  {
   "cell_type": "code",
   "execution_count": 103,
   "metadata": {
    "scrolled": true
   },
   "outputs": [
    {
     "data": {
      "text/plain": [
       "1"
      ]
     },
     "execution_count": 103,
     "metadata": {},
     "output_type": "execute_result"
    }
   ],
   "source": [
    "data.iloc[2] #get 2nd row\n",
    "data['mode_name'] #get label column\n",
    "data[:2] #get 0-2 row\n",
    "data.iloc[2]['mode_name'] #get 2nd row and label columns\n",
    "data.loc[2,'media_type'] #get 2nd row and label columns"
   ]
  },
  {
   "cell_type": "code",
   "execution_count": 90,
   "metadata": {
    "scrolled": true
   },
   "outputs": [
    {
     "name": "stdout",
     "output_type": "stream",
     "text": [
      "<class 'pandas.core.frame.DataFrame'>\n",
      "RangeIndex: 19659 entries, 0 to 19658\n",
      "Data columns (total 16 columns):\n",
      "media_height      19659 non-null float64\n",
      "media_width       19659 non-null float64\n",
      "media_type        19659 non-null int64\n",
      "media_waste       19659 non-null float64\n",
      "mode_name         19659 non-null int64\n",
      "print_height      19659 non-null float64\n",
      "print_width       19659 non-null float64\n",
      "print_id          19659 non-null int64\n",
      "R                 19659 non-null int64\n",
      "G                 19659 non-null int64\n",
      "B                 19659 non-null int64\n",
      "width             19659 non-null int64\n",
      "height            19659 non-null int64\n",
      "w/h               19659 non-null float64\n",
      "size              19659 non-null int64\n",
      "print_time_sec    19659 non-null int64\n",
      "dtypes: float64(6), int64(10)\n",
      "memory usage: 2.4 MB\n"
     ]
    }
   ],
   "source": [
    "data.info()"
   ]
  },
  {
   "cell_type": "code",
   "execution_count": 97,
   "metadata": {},
   "outputs": [
    {
     "data": {
      "text/plain": [
       "RangeIndex(start=0, stop=19659, step=1)"
      ]
     },
     "execution_count": 97,
     "metadata": {},
     "output_type": "execute_result"
    }
   ],
   "source": [
    "data.index"
   ]
  },
  {
   "cell_type": "code",
   "execution_count": 98,
   "metadata": {},
   "outputs": [
    {
     "data": {
      "text/plain": [
       "Index([u'media_height', u'media_width', u'media_type', u'media_waste',\n",
       "       u'mode_name', u'print_height', u'print_width', u'print_id', u'R', u'G',\n",
       "       u'B', u'width', u'height', u'w/h', u'size', u'print_time_sec'],\n",
       "      dtype='object')"
      ]
     },
     "execution_count": 98,
     "metadata": {},
     "output_type": "execute_result"
    }
   ],
   "source": [
    "data.columns"
   ]
  },
  {
   "cell_type": "code",
   "execution_count": 99,
   "metadata": {
    "scrolled": true
   },
   "outputs": [
    {
     "data": {
      "text/plain": [
       "array([[  1.17655828e+03,   1.79999371e+03,   2.00000000e+00, ...,\n",
       "          1.50000000e+00,   1.50000000e+01,   1.37000000e+02],\n",
       "       [  6.59892000e+02,   1.80001334e+03,   1.00000000e+00, ...,\n",
       "          2.34375000e+00,   1.50000000e+01,   3.70000000e+01],\n",
       "       [  6.39995342e+02,   1.80001334e+03,   1.00000000e+00, ...,\n",
       "          7.90000000e-01,   1.60000000e+01,   3.40000000e+01],\n",
       "       ..., \n",
       "       [  5.99927807e+02,   1.79999371e+03,   2.00000000e+00, ...,\n",
       "          2.51260500e+00,   1.40000000e+01,   1.02000000e+02],\n",
       "       [  7.11115901e+02,   1.79999371e+03,   2.00000000e+00, ...,\n",
       "          1.00000000e+00,   3.10000000e+01,   9.00000000e+01],\n",
       "       [  8.20081342e+02,   1.80001334e+03,   1.00000000e+00, ...,\n",
       "          1.00000000e+00,   3.90000000e+01,   5.90000000e+01]])"
      ]
     },
     "execution_count": 99,
     "metadata": {},
     "output_type": "execute_result"
    }
   ],
   "source": [
    "data.values"
   ]
  },
  {
   "cell_type": "code",
   "execution_count": 102,
   "metadata": {
    "scrolled": true
   },
   "outputs": [
    {
     "data": {
      "text/html": [
       "<div>\n",
       "<style>\n",
       "    .dataframe thead tr:only-child th {\n",
       "        text-align: right;\n",
       "    }\n",
       "\n",
       "    .dataframe thead th {\n",
       "        text-align: left;\n",
       "    }\n",
       "\n",
       "    .dataframe tbody tr th {\n",
       "        vertical-align: top;\n",
       "    }\n",
       "</style>\n",
       "<table border=\"1\" class=\"dataframe\">\n",
       "  <thead>\n",
       "    <tr style=\"text-align: right;\">\n",
       "      <th></th>\n",
       "      <th>media_height</th>\n",
       "      <th>media_width</th>\n",
       "      <th>media_type</th>\n",
       "      <th>media_waste</th>\n",
       "      <th>mode_name</th>\n",
       "      <th>print_height</th>\n",
       "      <th>print_width</th>\n",
       "      <th>print_id</th>\n",
       "      <th>R</th>\n",
       "      <th>G</th>\n",
       "      <th>B</th>\n",
       "      <th>width</th>\n",
       "      <th>height</th>\n",
       "      <th>w/h</th>\n",
       "      <th>size</th>\n",
       "      <th>print_time_sec</th>\n",
       "    </tr>\n",
       "  </thead>\n",
       "  <tbody>\n",
       "    <tr>\n",
       "      <th>count</th>\n",
       "      <td>19659.000000</td>\n",
       "      <td>19659.000000</td>\n",
       "      <td>19659.000000</td>\n",
       "      <td>19659.000000</td>\n",
       "      <td>19659.00000</td>\n",
       "      <td>19659.000000</td>\n",
       "      <td>19659.000000</td>\n",
       "      <td>19659.000000</td>\n",
       "      <td>1.965900e+04</td>\n",
       "      <td>1.965900e+04</td>\n",
       "      <td>1.965900e+04</td>\n",
       "      <td>19659.000000</td>\n",
       "      <td>19659.000000</td>\n",
       "      <td>19659.000000</td>\n",
       "      <td>19659.000000</td>\n",
       "      <td>19659.000000</td>\n",
       "    </tr>\n",
       "    <tr>\n",
       "      <th>mean</th>\n",
       "      <td>682.750993</td>\n",
       "      <td>1800.002435</td>\n",
       "      <td>1.770639</td>\n",
       "      <td>0.162410</td>\n",
       "      <td>1.67918</td>\n",
       "      <td>682.751430</td>\n",
       "      <td>1507.664360</td>\n",
       "      <td>1.770639</td>\n",
       "      <td>5.065197e+07</td>\n",
       "      <td>4.712701e+07</td>\n",
       "      <td>4.594657e+07</td>\n",
       "      <td>266.916476</td>\n",
       "      <td>255.257643</td>\n",
       "      <td>1.197757</td>\n",
       "      <td>22.582329</td>\n",
       "      <td>66.161351</td>\n",
       "    </tr>\n",
       "    <tr>\n",
       "      <th>std</th>\n",
       "      <td>293.313590</td>\n",
       "      <td>0.009757</td>\n",
       "      <td>0.888562</td>\n",
       "      <td>0.028057</td>\n",
       "      <td>0.72531</td>\n",
       "      <td>293.314106</td>\n",
       "      <td>50.501080</td>\n",
       "      <td>0.888562</td>\n",
       "      <td>1.062625e+08</td>\n",
       "      <td>1.013052e+08</td>\n",
       "      <td>9.867505e+07</td>\n",
       "      <td>50.934067</td>\n",
       "      <td>61.682562</td>\n",
       "      <td>0.806276</td>\n",
       "      <td>7.891301</td>\n",
       "      <td>47.367057</td>\n",
       "    </tr>\n",
       "    <tr>\n",
       "      <th>min</th>\n",
       "      <td>0.210261</td>\n",
       "      <td>1799.993708</td>\n",
       "      <td>1.000000</td>\n",
       "      <td>0.000000</td>\n",
       "      <td>1.00000</td>\n",
       "      <td>0.210261</td>\n",
       "      <td>639.920209</td>\n",
       "      <td>1.000000</td>\n",
       "      <td>0.000000e+00</td>\n",
       "      <td>0.000000e+00</td>\n",
       "      <td>0.000000e+00</td>\n",
       "      <td>14.000000</td>\n",
       "      <td>12.000000</td>\n",
       "      <td>0.046823</td>\n",
       "      <td>3.000000</td>\n",
       "      <td>1.000000</td>\n",
       "    </tr>\n",
       "    <tr>\n",
       "      <th>25%</th>\n",
       "      <td>426.711593</td>\n",
       "      <td>1799.993708</td>\n",
       "      <td>1.000000</td>\n",
       "      <td>0.138899</td>\n",
       "      <td>1.00000</td>\n",
       "      <td>426.711593</td>\n",
       "      <td>1469.982658</td>\n",
       "      <td>1.000000</td>\n",
       "      <td>1.448788e+07</td>\n",
       "      <td>1.345625e+07</td>\n",
       "      <td>1.298311e+07</td>\n",
       "      <td>237.000000</td>\n",
       "      <td>210.000000</td>\n",
       "      <td>0.792642</td>\n",
       "      <td>17.000000</td>\n",
       "      <td>33.000000</td>\n",
       "    </tr>\n",
       "    <tr>\n",
       "      <th>50%</th>\n",
       "      <td>666.623838</td>\n",
       "      <td>1799.993708</td>\n",
       "      <td>2.000000</td>\n",
       "      <td>0.166675</td>\n",
       "      <td>2.00000</td>\n",
       "      <td>666.623838</td>\n",
       "      <td>1499.997000</td>\n",
       "      <td>2.000000</td>\n",
       "      <td>2.610445e+07</td>\n",
       "      <td>2.436600e+07</td>\n",
       "      <td>2.343469e+07</td>\n",
       "      <td>299.000000</td>\n",
       "      <td>299.000000</td>\n",
       "      <td>1.000000</td>\n",
       "      <td>22.000000</td>\n",
       "      <td>51.000000</td>\n",
       "    </tr>\n",
       "    <tr>\n",
       "      <th>75%</th>\n",
       "      <td>853.675509</td>\n",
       "      <td>1800.013342</td>\n",
       "      <td>2.000000</td>\n",
       "      <td>0.183349</td>\n",
       "      <td>2.00000</td>\n",
       "      <td>853.675509</td>\n",
       "      <td>1549.992658</td>\n",
       "      <td>2.000000</td>\n",
       "      <td>4.898050e+07</td>\n",
       "      <td>4.507121e+07</td>\n",
       "      <td>4.310836e+07</td>\n",
       "      <td>300.000000</td>\n",
       "      <td>299.000000</td>\n",
       "      <td>1.421801</td>\n",
       "      <td>28.000000</td>\n",
       "      <td>86.000000</td>\n",
       "    </tr>\n",
       "    <tr>\n",
       "      <th>max</th>\n",
       "      <td>4416.721342</td>\n",
       "      <td>1800.013342</td>\n",
       "      <td>5.000000</td>\n",
       "      <td>0.644488</td>\n",
       "      <td>4.00000</td>\n",
       "      <td>4416.721342</td>\n",
       "      <td>1800.013342</td>\n",
       "      <td>5.000000</td>\n",
       "      <td>1.882177e+09</td>\n",
       "      <td>2.020640e+09</td>\n",
       "      <td>1.951690e+09</td>\n",
       "      <td>300.000000</td>\n",
       "      <td>300.000000</td>\n",
       "      <td>24.916667</td>\n",
       "      <td>50.000000</td>\n",
       "      <td>746.000000</td>\n",
       "    </tr>\n",
       "  </tbody>\n",
       "</table>\n",
       "</div>"
      ],
      "text/plain": [
       "       media_height   media_width    media_type   media_waste    mode_name  \\\n",
       "count  19659.000000  19659.000000  19659.000000  19659.000000  19659.00000   \n",
       "mean     682.750993   1800.002435      1.770639      0.162410      1.67918   \n",
       "std      293.313590      0.009757      0.888562      0.028057      0.72531   \n",
       "min        0.210261   1799.993708      1.000000      0.000000      1.00000   \n",
       "25%      426.711593   1799.993708      1.000000      0.138899      1.00000   \n",
       "50%      666.623838   1799.993708      2.000000      0.166675      2.00000   \n",
       "75%      853.675509   1800.013342      2.000000      0.183349      2.00000   \n",
       "max     4416.721342   1800.013342      5.000000      0.644488      4.00000   \n",
       "\n",
       "       print_height   print_width      print_id             R             G  \\\n",
       "count  19659.000000  19659.000000  19659.000000  1.965900e+04  1.965900e+04   \n",
       "mean     682.751430   1507.664360      1.770639  5.065197e+07  4.712701e+07   \n",
       "std      293.314106     50.501080      0.888562  1.062625e+08  1.013052e+08   \n",
       "min        0.210261    639.920209      1.000000  0.000000e+00  0.000000e+00   \n",
       "25%      426.711593   1469.982658      1.000000  1.448788e+07  1.345625e+07   \n",
       "50%      666.623838   1499.997000      2.000000  2.610445e+07  2.436600e+07   \n",
       "75%      853.675509   1549.992658      2.000000  4.898050e+07  4.507121e+07   \n",
       "max     4416.721342   1800.013342      5.000000  1.882177e+09  2.020640e+09   \n",
       "\n",
       "                  B         width        height           w/h          size  \\\n",
       "count  1.965900e+04  19659.000000  19659.000000  19659.000000  19659.000000   \n",
       "mean   4.594657e+07    266.916476    255.257643      1.197757     22.582329   \n",
       "std    9.867505e+07     50.934067     61.682562      0.806276      7.891301   \n",
       "min    0.000000e+00     14.000000     12.000000      0.046823      3.000000   \n",
       "25%    1.298311e+07    237.000000    210.000000      0.792642     17.000000   \n",
       "50%    2.343469e+07    299.000000    299.000000      1.000000     22.000000   \n",
       "75%    4.310836e+07    300.000000    299.000000      1.421801     28.000000   \n",
       "max    1.951690e+09    300.000000    300.000000     24.916667     50.000000   \n",
       "\n",
       "       print_time_sec  \n",
       "count    19659.000000  \n",
       "mean        66.161351  \n",
       "std         47.367057  \n",
       "min          1.000000  \n",
       "25%         33.000000  \n",
       "50%         51.000000  \n",
       "75%         86.000000  \n",
       "max        746.000000  "
      ]
     },
     "execution_count": 102,
     "metadata": {},
     "output_type": "execute_result"
    }
   ],
   "source": [
    "data.describe()"
   ]
  },
  {
   "cell_type": "code",
   "execution_count": 107,
   "metadata": {
    "scrolled": true
   },
   "outputs": [
    {
     "data": {
      "text/plain": [
       "media_height      6.827510e+02\n",
       "media_width       1.800002e+03\n",
       "media_type        1.770639e+00\n",
       "media_waste       1.624096e-01\n",
       "mode_name         1.679180e+00\n",
       "print_height      6.827514e+02\n",
       "print_width       1.507664e+03\n",
       "print_id          1.770639e+00\n",
       "R                 5.065197e+07\n",
       "G                 4.712701e+07\n",
       "B                 4.594657e+07\n",
       "width             2.669165e+02\n",
       "height            2.552576e+02\n",
       "w/h               1.197757e+00\n",
       "size              2.258233e+01\n",
       "print_time_sec    6.616135e+01\n",
       "dtype: float64"
      ]
     },
     "execution_count": 107,
     "metadata": {},
     "output_type": "execute_result"
    }
   ],
   "source": [
    "data.mean()"
   ]
  },
  {
   "cell_type": "code",
   "execution_count": 108,
   "metadata": {
    "scrolled": true
   },
   "outputs": [
    {
     "data": {
      "text/html": [
       "<div>\n",
       "<style>\n",
       "    .dataframe thead tr:only-child th {\n",
       "        text-align: right;\n",
       "    }\n",
       "\n",
       "    .dataframe thead th {\n",
       "        text-align: left;\n",
       "    }\n",
       "\n",
       "    .dataframe tbody tr th {\n",
       "        vertical-align: top;\n",
       "    }\n",
       "</style>\n",
       "<table border=\"1\" class=\"dataframe\">\n",
       "  <thead>\n",
       "    <tr style=\"text-align: right;\">\n",
       "      <th></th>\n",
       "      <th>0</th>\n",
       "      <th>1</th>\n",
       "      <th>2</th>\n",
       "      <th>3</th>\n",
       "    </tr>\n",
       "  </thead>\n",
       "  <tbody>\n",
       "    <tr>\n",
       "      <th>0</th>\n",
       "      <td>-2.769073</td>\n",
       "      <td>1.194885</td>\n",
       "      <td>-0.600878</td>\n",
       "      <td>1.382267</td>\n",
       "    </tr>\n",
       "    <tr>\n",
       "      <th>1</th>\n",
       "      <td>-1.184579</td>\n",
       "      <td>-0.694655</td>\n",
       "      <td>-1.706031</td>\n",
       "      <td>0.580771</td>\n",
       "    </tr>\n",
       "    <tr>\n",
       "      <th>2</th>\n",
       "      <td>-1.626785</td>\n",
       "      <td>1.706011</td>\n",
       "      <td>0.948679</td>\n",
       "      <td>0.097832</td>\n",
       "    </tr>\n",
       "    <tr>\n",
       "      <th>3</th>\n",
       "      <td>-2.932741</td>\n",
       "      <td>-0.847620</td>\n",
       "      <td>-1.218464</td>\n",
       "      <td>-0.664243</td>\n",
       "    </tr>\n",
       "    <tr>\n",
       "      <th>4</th>\n",
       "      <td>-1.170254</td>\n",
       "      <td>-0.163144</td>\n",
       "      <td>-1.322451</td>\n",
       "      <td>-0.461838</td>\n",
       "    </tr>\n",
       "    <tr>\n",
       "      <th>5</th>\n",
       "      <td>-0.465583</td>\n",
       "      <td>1.322420</td>\n",
       "      <td>-0.556459</td>\n",
       "      <td>2.413297</td>\n",
       "    </tr>\n",
       "    <tr>\n",
       "      <th>6</th>\n",
       "      <td>-1.245809</td>\n",
       "      <td>0.244260</td>\n",
       "      <td>0.235606</td>\n",
       "      <td>0.367428</td>\n",
       "    </tr>\n",
       "    <tr>\n",
       "      <th>7</th>\n",
       "      <td>1.616608</td>\n",
       "      <td>0.394430</td>\n",
       "      <td>-0.157616</td>\n",
       "      <td>-1.129361</td>\n",
       "    </tr>\n",
       "    <tr>\n",
       "      <th>8</th>\n",
       "      <td>1.655242</td>\n",
       "      <td>0.390604</td>\n",
       "      <td>0.664979</td>\n",
       "      <td>0.745946</td>\n",
       "    </tr>\n",
       "    <tr>\n",
       "      <th>9</th>\n",
       "      <td>1.305345</td>\n",
       "      <td>-0.608288</td>\n",
       "      <td>-0.328516</td>\n",
       "      <td>1.490061</td>\n",
       "    </tr>\n",
       "  </tbody>\n",
       "</table>\n",
       "</div>"
      ],
      "text/plain": [
       "          0         1         2         3\n",
       "0 -2.769073  1.194885 -0.600878  1.382267\n",
       "1 -1.184579 -0.694655 -1.706031  0.580771\n",
       "2 -1.626785  1.706011  0.948679  0.097832\n",
       "3 -2.932741 -0.847620 -1.218464 -0.664243\n",
       "4 -1.170254 -0.163144 -1.322451 -0.461838\n",
       "5 -0.465583  1.322420 -0.556459  2.413297\n",
       "6 -1.245809  0.244260  0.235606  0.367428\n",
       "7  1.616608  0.394430 -0.157616 -1.129361\n",
       "8  1.655242  0.390604  0.664979  0.745946\n",
       "9  1.305345 -0.608288 -0.328516  1.490061"
      ]
     },
     "execution_count": 108,
     "metadata": {},
     "output_type": "execute_result"
    }
   ],
   "source": [
    "df = pd.DataFrame(np.random.randn(10, 4))\n",
    "df"
   ]
  },
  {
   "cell_type": "code",
   "execution_count": 111,
   "metadata": {},
   "outputs": [
    {
     "data": {
      "text/html": [
       "<div>\n",
       "<style>\n",
       "    .dataframe thead tr:only-child th {\n",
       "        text-align: right;\n",
       "    }\n",
       "\n",
       "    .dataframe thead th {\n",
       "        text-align: left;\n",
       "    }\n",
       "\n",
       "    .dataframe tbody tr th {\n",
       "        vertical-align: top;\n",
       "    }\n",
       "</style>\n",
       "<table border=\"1\" class=\"dataframe\">\n",
       "  <thead>\n",
       "    <tr style=\"text-align: right;\">\n",
       "      <th></th>\n",
       "      <th>0</th>\n",
       "      <th>1</th>\n",
       "      <th>2</th>\n",
       "      <th>3</th>\n",
       "    </tr>\n",
       "  </thead>\n",
       "  <tbody>\n",
       "    <tr>\n",
       "      <th>0</th>\n",
       "      <td>-2.769073</td>\n",
       "      <td>1.194885</td>\n",
       "      <td>-0.600878</td>\n",
       "      <td>1.382267</td>\n",
       "    </tr>\n",
       "    <tr>\n",
       "      <th>1</th>\n",
       "      <td>-1.184579</td>\n",
       "      <td>-0.694655</td>\n",
       "      <td>-1.706031</td>\n",
       "      <td>0.580771</td>\n",
       "    </tr>\n",
       "    <tr>\n",
       "      <th>2</th>\n",
       "      <td>-1.626785</td>\n",
       "      <td>1.706011</td>\n",
       "      <td>0.948679</td>\n",
       "      <td>0.097832</td>\n",
       "    </tr>\n",
       "    <tr>\n",
       "      <th>3</th>\n",
       "      <td>-2.932741</td>\n",
       "      <td>-0.847620</td>\n",
       "      <td>-1.218464</td>\n",
       "      <td>-0.664243</td>\n",
       "    </tr>\n",
       "    <tr>\n",
       "      <th>4</th>\n",
       "      <td>-1.170254</td>\n",
       "      <td>-0.163144</td>\n",
       "      <td>-1.322451</td>\n",
       "      <td>-0.461838</td>\n",
       "    </tr>\n",
       "    <tr>\n",
       "      <th>5</th>\n",
       "      <td>-0.465583</td>\n",
       "      <td>1.322420</td>\n",
       "      <td>-0.556459</td>\n",
       "      <td>2.413297</td>\n",
       "    </tr>\n",
       "    <tr>\n",
       "      <th>6</th>\n",
       "      <td>-1.245809</td>\n",
       "      <td>0.244260</td>\n",
       "      <td>0.235606</td>\n",
       "      <td>0.367428</td>\n",
       "    </tr>\n",
       "    <tr>\n",
       "      <th>7</th>\n",
       "      <td>1.616608</td>\n",
       "      <td>0.394430</td>\n",
       "      <td>-0.157616</td>\n",
       "      <td>-1.129361</td>\n",
       "    </tr>\n",
       "    <tr>\n",
       "      <th>8</th>\n",
       "      <td>1.655242</td>\n",
       "      <td>0.390604</td>\n",
       "      <td>0.664979</td>\n",
       "      <td>0.745946</td>\n",
       "    </tr>\n",
       "    <tr>\n",
       "      <th>9</th>\n",
       "      <td>1.305345</td>\n",
       "      <td>-0.608288</td>\n",
       "      <td>-0.328516</td>\n",
       "      <td>1.490061</td>\n",
       "    </tr>\n",
       "  </tbody>\n",
       "</table>\n",
       "</div>"
      ],
      "text/plain": [
       "          0         1         2         3\n",
       "0 -2.769073  1.194885 -0.600878  1.382267\n",
       "1 -1.184579 -0.694655 -1.706031  0.580771\n",
       "2 -1.626785  1.706011  0.948679  0.097832\n",
       "3 -2.932741 -0.847620 -1.218464 -0.664243\n",
       "4 -1.170254 -0.163144 -1.322451 -0.461838\n",
       "5 -0.465583  1.322420 -0.556459  2.413297\n",
       "6 -1.245809  0.244260  0.235606  0.367428\n",
       "7  1.616608  0.394430 -0.157616 -1.129361\n",
       "8  1.655242  0.390604  0.664979  0.745946\n",
       "9  1.305345 -0.608288 -0.328516  1.490061"
      ]
     },
     "execution_count": 111,
     "metadata": {},
     "output_type": "execute_result"
    }
   ],
   "source": [
    "pieces = [df[:3], df[3:7], df[7:]]\n",
    "pd.concat(pieces)"
   ]
  },
  {
   "cell_type": "code",
   "execution_count": 27,
   "metadata": {},
   "outputs": [
    {
     "data": {
      "text/plain": [
       "DatetimeIndex(['2013-01-01', '2013-01-02', '2013-01-03', '2013-01-04',\n",
       "               '2013-01-05', '2013-01-06', '2013-01-07', '2013-01-08',\n",
       "               '2013-01-09', '2013-01-10'],\n",
       "              dtype='datetime64[ns]', freq='D')"
      ]
     },
     "execution_count": 27,
     "metadata": {},
     "output_type": "execute_result"
    }
   ],
   "source": [
    "dates = pd.date_range('20130101', periods=7)\n",
    "dates"
   ]
  },
  {
   "cell_type": "code",
   "execution_count": 94,
   "metadata": {
    "scrolled": true
   },
   "outputs": [
    {
     "data": {
      "text/html": [
       "<div>\n",
       "<style>\n",
       "    .dataframe thead tr:only-child th {\n",
       "        text-align: right;\n",
       "    }\n",
       "\n",
       "    .dataframe thead th {\n",
       "        text-align: left;\n",
       "    }\n",
       "\n",
       "    .dataframe tbody tr th {\n",
       "        vertical-align: top;\n",
       "    }\n",
       "</style>\n",
       "<table border=\"1\" class=\"dataframe\">\n",
       "  <thead>\n",
       "    <tr style=\"text-align: right;\">\n",
       "      <th></th>\n",
       "      <th>A</th>\n",
       "      <th>B</th>\n",
       "      <th>C</th>\n",
       "      <th>D</th>\n",
       "    </tr>\n",
       "  </thead>\n",
       "  <tbody>\n",
       "    <tr>\n",
       "      <th>2013-01-01</th>\n",
       "      <td>0.362681</td>\n",
       "      <td>0.158847</td>\n",
       "      <td>-1.223208</td>\n",
       "      <td>-0.782044</td>\n",
       "    </tr>\n",
       "    <tr>\n",
       "      <th>2013-01-02</th>\n",
       "      <td>0.889134</td>\n",
       "      <td>-1.103073</td>\n",
       "      <td>-0.657055</td>\n",
       "      <td>1.116668</td>\n",
       "    </tr>\n",
       "    <tr>\n",
       "      <th>2013-01-03</th>\n",
       "      <td>-0.077224</td>\n",
       "      <td>-0.425518</td>\n",
       "      <td>0.392688</td>\n",
       "      <td>-0.469594</td>\n",
       "    </tr>\n",
       "    <tr>\n",
       "      <th>2013-01-04</th>\n",
       "      <td>-0.447594</td>\n",
       "      <td>1.616942</td>\n",
       "      <td>-0.798251</td>\n",
       "      <td>-2.580845</td>\n",
       "    </tr>\n",
       "    <tr>\n",
       "      <th>2013-01-05</th>\n",
       "      <td>-0.918118</td>\n",
       "      <td>-1.183752</td>\n",
       "      <td>-1.047201</td>\n",
       "      <td>-1.183415</td>\n",
       "    </tr>\n",
       "    <tr>\n",
       "      <th>2013-01-06</th>\n",
       "      <td>-0.475572</td>\n",
       "      <td>0.863839</td>\n",
       "      <td>0.600949</td>\n",
       "      <td>0.763698</td>\n",
       "    </tr>\n",
       "  </tbody>\n",
       "</table>\n",
       "</div>"
      ],
      "text/plain": [
       "                   A         B         C         D\n",
       "2013-01-01  0.362681  0.158847 -1.223208 -0.782044\n",
       "2013-01-02  0.889134 -1.103073 -0.657055  1.116668\n",
       "2013-01-03 -0.077224 -0.425518  0.392688 -0.469594\n",
       "2013-01-04 -0.447594  1.616942 -0.798251 -2.580845\n",
       "2013-01-05 -0.918118 -1.183752 -1.047201 -1.183415\n",
       "2013-01-06 -0.475572  0.863839  0.600949  0.763698"
      ]
     },
     "execution_count": 94,
     "metadata": {},
     "output_type": "execute_result"
    }
   ],
   "source": [
    "df = pd.DataFrame(np.random.randn(6,4), index=dates, columns=list('ABCD'))\n",
    "df"
   ]
  },
  {
   "cell_type": "code",
   "execution_count": 95,
   "metadata": {
    "scrolled": true
   },
   "outputs": [
    {
     "data": {
      "text/html": [
       "<div>\n",
       "<style>\n",
       "    .dataframe thead tr:only-child th {\n",
       "        text-align: right;\n",
       "    }\n",
       "\n",
       "    .dataframe thead th {\n",
       "        text-align: left;\n",
       "    }\n",
       "\n",
       "    .dataframe tbody tr th {\n",
       "        vertical-align: top;\n",
       "    }\n",
       "</style>\n",
       "<table border=\"1\" class=\"dataframe\">\n",
       "  <thead>\n",
       "    <tr style=\"text-align: right;\">\n",
       "      <th></th>\n",
       "      <th>A</th>\n",
       "      <th>B</th>\n",
       "      <th>C</th>\n",
       "      <th>D</th>\n",
       "    </tr>\n",
       "  </thead>\n",
       "  <tbody>\n",
       "    <tr>\n",
       "      <th>2013-01-01</th>\n",
       "      <td>0.362681</td>\n",
       "      <td>0.158847</td>\n",
       "      <td>-1.223208</td>\n",
       "      <td>-0.782044</td>\n",
       "    </tr>\n",
       "    <tr>\n",
       "      <th>2013-01-02</th>\n",
       "      <td>0.889134</td>\n",
       "      <td>-1.103073</td>\n",
       "      <td>-0.657055</td>\n",
       "      <td>1.116668</td>\n",
       "    </tr>\n",
       "    <tr>\n",
       "      <th>2013-01-03</th>\n",
       "      <td>-0.077224</td>\n",
       "      <td>-0.425518</td>\n",
       "      <td>0.392688</td>\n",
       "      <td>-0.469594</td>\n",
       "    </tr>\n",
       "    <tr>\n",
       "      <th>2013-01-04</th>\n",
       "      <td>-0.447594</td>\n",
       "      <td>1.616942</td>\n",
       "      <td>-0.798251</td>\n",
       "      <td>-2.580845</td>\n",
       "    </tr>\n",
       "    <tr>\n",
       "      <th>2013-01-05</th>\n",
       "      <td>-0.918118</td>\n",
       "      <td>-1.183752</td>\n",
       "      <td>-1.047201</td>\n",
       "      <td>-1.183415</td>\n",
       "    </tr>\n",
       "  </tbody>\n",
       "</table>\n",
       "</div>"
      ],
      "text/plain": [
       "                   A         B         C         D\n",
       "2013-01-01  0.362681  0.158847 -1.223208 -0.782044\n",
       "2013-01-02  0.889134 -1.103073 -0.657055  1.116668\n",
       "2013-01-03 -0.077224 -0.425518  0.392688 -0.469594\n",
       "2013-01-04 -0.447594  1.616942 -0.798251 -2.580845\n",
       "2013-01-05 -0.918118 -1.183752 -1.047201 -1.183415"
      ]
     },
     "execution_count": 95,
     "metadata": {},
     "output_type": "execute_result"
    }
   ],
   "source": [
    "df.head()"
   ]
  },
  {
   "cell_type": "code",
   "execution_count": 96,
   "metadata": {
    "scrolled": true
   },
   "outputs": [
    {
     "data": {
      "text/html": [
       "<div>\n",
       "<style>\n",
       "    .dataframe thead tr:only-child th {\n",
       "        text-align: right;\n",
       "    }\n",
       "\n",
       "    .dataframe thead th {\n",
       "        text-align: left;\n",
       "    }\n",
       "\n",
       "    .dataframe tbody tr th {\n",
       "        vertical-align: top;\n",
       "    }\n",
       "</style>\n",
       "<table border=\"1\" class=\"dataframe\">\n",
       "  <thead>\n",
       "    <tr style=\"text-align: right;\">\n",
       "      <th></th>\n",
       "      <th>A</th>\n",
       "      <th>B</th>\n",
       "      <th>C</th>\n",
       "      <th>D</th>\n",
       "    </tr>\n",
       "  </thead>\n",
       "  <tbody>\n",
       "    <tr>\n",
       "      <th>2013-01-02</th>\n",
       "      <td>0.889134</td>\n",
       "      <td>-1.103073</td>\n",
       "      <td>-0.657055</td>\n",
       "      <td>1.116668</td>\n",
       "    </tr>\n",
       "    <tr>\n",
       "      <th>2013-01-03</th>\n",
       "      <td>-0.077224</td>\n",
       "      <td>-0.425518</td>\n",
       "      <td>0.392688</td>\n",
       "      <td>-0.469594</td>\n",
       "    </tr>\n",
       "    <tr>\n",
       "      <th>2013-01-04</th>\n",
       "      <td>-0.447594</td>\n",
       "      <td>1.616942</td>\n",
       "      <td>-0.798251</td>\n",
       "      <td>-2.580845</td>\n",
       "    </tr>\n",
       "    <tr>\n",
       "      <th>2013-01-05</th>\n",
       "      <td>-0.918118</td>\n",
       "      <td>-1.183752</td>\n",
       "      <td>-1.047201</td>\n",
       "      <td>-1.183415</td>\n",
       "    </tr>\n",
       "    <tr>\n",
       "      <th>2013-01-06</th>\n",
       "      <td>-0.475572</td>\n",
       "      <td>0.863839</td>\n",
       "      <td>0.600949</td>\n",
       "      <td>0.763698</td>\n",
       "    </tr>\n",
       "  </tbody>\n",
       "</table>\n",
       "</div>"
      ],
      "text/plain": [
       "                   A         B         C         D\n",
       "2013-01-02  0.889134 -1.103073 -0.657055  1.116668\n",
       "2013-01-03 -0.077224 -0.425518  0.392688 -0.469594\n",
       "2013-01-04 -0.447594  1.616942 -0.798251 -2.580845\n",
       "2013-01-05 -0.918118 -1.183752 -1.047201 -1.183415\n",
       "2013-01-06 -0.475572  0.863839  0.600949  0.763698"
      ]
     },
     "execution_count": 96,
     "metadata": {},
     "output_type": "execute_result"
    }
   ],
   "source": [
    "df.tail()"
   ]
  },
  {
   "cell_type": "code",
   "execution_count": 112,
   "metadata": {},
   "outputs": [
    {
     "data": {
      "text/html": [
       "<div>\n",
       "<style>\n",
       "    .dataframe thead tr:only-child th {\n",
       "        text-align: right;\n",
       "    }\n",
       "\n",
       "    .dataframe thead th {\n",
       "        text-align: left;\n",
       "    }\n",
       "\n",
       "    .dataframe tbody tr th {\n",
       "        vertical-align: top;\n",
       "    }\n",
       "</style>\n",
       "<table border=\"1\" class=\"dataframe\">\n",
       "  <thead>\n",
       "    <tr style=\"text-align: right;\">\n",
       "      <th></th>\n",
       "      <th>key</th>\n",
       "      <th>lval</th>\n",
       "      <th>rval</th>\n",
       "    </tr>\n",
       "  </thead>\n",
       "  <tbody>\n",
       "    <tr>\n",
       "      <th>0</th>\n",
       "      <td>foo</td>\n",
       "      <td>1</td>\n",
       "      <td>4</td>\n",
       "    </tr>\n",
       "    <tr>\n",
       "      <th>1</th>\n",
       "      <td>foo</td>\n",
       "      <td>1</td>\n",
       "      <td>5</td>\n",
       "    </tr>\n",
       "    <tr>\n",
       "      <th>2</th>\n",
       "      <td>foo</td>\n",
       "      <td>2</td>\n",
       "      <td>4</td>\n",
       "    </tr>\n",
       "    <tr>\n",
       "      <th>3</th>\n",
       "      <td>foo</td>\n",
       "      <td>2</td>\n",
       "      <td>5</td>\n",
       "    </tr>\n",
       "  </tbody>\n",
       "</table>\n",
       "</div>"
      ],
      "text/plain": [
       "   key  lval  rval\n",
       "0  foo     1     4\n",
       "1  foo     1     5\n",
       "2  foo     2     4\n",
       "3  foo     2     5"
      ]
     },
     "execution_count": 112,
     "metadata": {},
     "output_type": "execute_result"
    }
   ],
   "source": [
    "left = pd.DataFrame({'key': ['foo', 'foo'], 'lval': [1, 2]})\n",
    "right = pd.DataFrame({'key': ['foo', 'foo'], 'rval': [4, 5]})\n",
    "pd.merge(left, right, on='key')"
   ]
  },
  {
   "cell_type": "code",
   "execution_count": 116,
   "metadata": {},
   "outputs": [
    {
     "data": {
      "text/html": [
       "<div>\n",
       "<style>\n",
       "    .dataframe thead tr:only-child th {\n",
       "        text-align: right;\n",
       "    }\n",
       "\n",
       "    .dataframe thead th {\n",
       "        text-align: left;\n",
       "    }\n",
       "\n",
       "    .dataframe tbody tr th {\n",
       "        vertical-align: top;\n",
       "    }\n",
       "</style>\n",
       "<table border=\"1\" class=\"dataframe\">\n",
       "  <thead>\n",
       "    <tr style=\"text-align: right;\">\n",
       "      <th></th>\n",
       "      <th>A</th>\n",
       "      <th>B</th>\n",
       "      <th>C</th>\n",
       "      <th>D</th>\n",
       "    </tr>\n",
       "  </thead>\n",
       "  <tbody>\n",
       "    <tr>\n",
       "      <th>0</th>\n",
       "      <td>-0.346559</td>\n",
       "      <td>1.107037</td>\n",
       "      <td>0.431684</td>\n",
       "      <td>2.170276</td>\n",
       "    </tr>\n",
       "    <tr>\n",
       "      <th>1</th>\n",
       "      <td>-0.232352</td>\n",
       "      <td>0.770196</td>\n",
       "      <td>1.418507</td>\n",
       "      <td>0.181767</td>\n",
       "    </tr>\n",
       "    <tr>\n",
       "      <th>2</th>\n",
       "      <td>-0.077217</td>\n",
       "      <td>0.535408</td>\n",
       "      <td>-1.248644</td>\n",
       "      <td>1.517658</td>\n",
       "    </tr>\n",
       "    <tr>\n",
       "      <th>3</th>\n",
       "      <td>-1.519161</td>\n",
       "      <td>-1.116509</td>\n",
       "      <td>0.779034</td>\n",
       "      <td>1.346435</td>\n",
       "    </tr>\n",
       "    <tr>\n",
       "      <th>4</th>\n",
       "      <td>0.105678</td>\n",
       "      <td>-1.055512</td>\n",
       "      <td>1.201529</td>\n",
       "      <td>0.032874</td>\n",
       "    </tr>\n",
       "    <tr>\n",
       "      <th>5</th>\n",
       "      <td>-1.569056</td>\n",
       "      <td>-1.813701</td>\n",
       "      <td>-1.020177</td>\n",
       "      <td>-0.562353</td>\n",
       "    </tr>\n",
       "    <tr>\n",
       "      <th>6</th>\n",
       "      <td>0.785098</td>\n",
       "      <td>-0.846083</td>\n",
       "      <td>-0.534910</td>\n",
       "      <td>-1.653487</td>\n",
       "    </tr>\n",
       "    <tr>\n",
       "      <th>7</th>\n",
       "      <td>-1.087548</td>\n",
       "      <td>1.046830</td>\n",
       "      <td>0.586513</td>\n",
       "      <td>1.168450</td>\n",
       "    </tr>\n",
       "    <tr>\n",
       "      <th>8</th>\n",
       "      <td>-1.519161</td>\n",
       "      <td>-1.116509</td>\n",
       "      <td>0.779034</td>\n",
       "      <td>1.346435</td>\n",
       "    </tr>\n",
       "  </tbody>\n",
       "</table>\n",
       "</div>"
      ],
      "text/plain": [
       "          A         B         C         D\n",
       "0 -0.346559  1.107037  0.431684  2.170276\n",
       "1 -0.232352  0.770196  1.418507  0.181767\n",
       "2 -0.077217  0.535408 -1.248644  1.517658\n",
       "3 -1.519161 -1.116509  0.779034  1.346435\n",
       "4  0.105678 -1.055512  1.201529  0.032874\n",
       "5 -1.569056 -1.813701 -1.020177 -0.562353\n",
       "6  0.785098 -0.846083 -0.534910 -1.653487\n",
       "7 -1.087548  1.046830  0.586513  1.168450\n",
       "8 -1.519161 -1.116509  0.779034  1.346435"
      ]
     },
     "execution_count": 116,
     "metadata": {},
     "output_type": "execute_result"
    }
   ],
   "source": [
    "df = pd.DataFrame(np.random.randn(8, 4), columns=['A','B','C','D'])\n",
    "s = df.iloc[3]\n",
    "df.append(s,ignore_index=True)"
   ]
  }
 ],
 "metadata": {
  "kernelspec": {
   "display_name": "Python 2",
   "language": "python",
   "name": "python2"
  },
  "language_info": {
   "codemirror_mode": {
    "name": "ipython",
    "version": 2
   },
   "file_extension": ".py",
   "mimetype": "text/x-python",
   "name": "python",
   "nbconvert_exporter": "python",
   "pygments_lexer": "ipython2",
   "version": "2.7.13"
  }
 },
 "nbformat": 4,
 "nbformat_minor": 2
}
