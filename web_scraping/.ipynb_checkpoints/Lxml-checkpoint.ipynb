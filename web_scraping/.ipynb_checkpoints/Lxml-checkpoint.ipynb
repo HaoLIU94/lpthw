{
 "cells": [
  {
   "cell_type": "code",
   "execution_count": 3,
   "metadata": {},
   "outputs": [
    {
     "name": "stdout",
     "output_type": "stream",
     "text": [
      "<ul class=\"country\">\n",
      "<li>Area</li>\n",
      "<li>Population</li>\n",
      "</ul>\n",
      "\n"
     ]
    }
   ],
   "source": [
    "import lxml.html\n",
    "from download_iteration import download\n",
    "broken_html = '<ul class=country><li>Area<li>Population</ul>'\n",
    "tree = lxml.html.fromstring(broken_html)\n",
    "fixed_html = lxml.html.tostring(tree, pretty_print=True)\n",
    "print fixed_html"
   ]
  },
  {
   "cell_type": "code",
   "execution_count": 4,
   "metadata": {},
   "outputs": [
    {
     "name": "stdout",
     "output_type": "stream",
     "text": [
      "Downloading: http://example.webscraping.com/places/default/view/China-47\n",
      "9,596,960 square kilometres\n"
     ]
    }
   ],
   "source": [
    "url = 'http://example.webscraping.com/places/default/view/China-47'\n",
    "html = download(url)\n",
    "tree = lxml.html.fromstring(html)\n",
    "td = tree.cssselect('tr#places_area__row > td.w2p_fw')[0]\n",
    "area = td.text_content()\n",
    "print area"
   ]
  },
  {
   "cell_type": "code",
   "execution_count": null,
   "metadata": {
    "collapsed": true
   },
   "outputs": [],
   "source": [
    "'''\n",
    "Select any tag: *\n",
    "Select by tag <a>: a\n",
    "Select by class of \"link\": .link\n",
    "Select by tag <a> with class \"link\": a.link\n",
    "Select by tag <a> with ID \"home\": a#home\n",
    "Select by child <span> of tag <a>: a > span\n",
    "Select by descendant <span> of tag <a>: a span\n",
    "Select by tag <a> with attribute title of \"Home\": a[title=Home]\n",
    "'''"
   ]
  }
 ],
 "metadata": {
  "kernelspec": {
   "display_name": "Python 2",
   "language": "python",
   "name": "python2"
  },
  "language_info": {
   "codemirror_mode": {
    "name": "ipython",
    "version": 2
   },
   "file_extension": ".py",
   "mimetype": "text/x-python",
   "name": "python",
   "nbconvert_exporter": "python",
   "pygments_lexer": "ipython2",
   "version": "2.7.13"
  }
 },
 "nbformat": 4,
 "nbformat_minor": 2
}
