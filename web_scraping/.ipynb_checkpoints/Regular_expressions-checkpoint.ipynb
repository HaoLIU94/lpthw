{
 "cells": [
  {
   "cell_type": "code",
   "execution_count": 13,
   "metadata": {},
   "outputs": [
    {
     "name": "stdout",
     "output_type": "stream",
     "text": [
      "Downloading: http://example.webscraping.com/places/default/view/China-47\n"
     ]
    }
   ],
   "source": [
    "import re\n",
    "from download_iteration import download\n",
    "url = 'http://example.webscraping.com/places/default/view/China-47'\n",
    "html = download(url)"
   ]
  },
  {
   "cell_type": "code",
   "execution_count": 32,
   "metadata": {},
   "outputs": [
    {
     "data": {
      "text/plain": [
       "['9,596,960 square kilometres']"
      ]
     },
     "execution_count": 32,
     "metadata": {},
     "output_type": "execute_result"
    }
   ],
   "source": [
    "re.findall('<tr id=\"places_area__row\">.*?<td\\s*class=[\"\\']w2p_fw[\"\\']>(.*?)</td>', html)(.*?)"
   ]
  },
  {
   "cell_type": "code",
   "execution_count": 34,
   "metadata": {},
   "outputs": [
    {
     "data": {
      "text/plain": [
       "['9,596,960 square kilometres']"
      ]
     },
     "execution_count": 34,
     "metadata": {},
     "output_type": "execute_result"
    }
   ],
   "source": [
    "re.findall('<tr id=\"places_area__row\"><td class=\"w2p_fl\"><label class=\"readonly\" for=\"places_area\" id=\"places_area__label\">Area: </label></td><td class=\"w2p_fw\">(.*?)</td><td class=\"w2p_fc\"></td>', html)"
   ]
  },
  {
   "cell_type": "code",
   "execution_count": 35,
   "metadata": {},
   "outputs": [
    {
     "data": {
      "text/plain": [
       "['<img src=\"/places/static/images/flags/cn.png\" />',\n",
       " '9,596,960 square kilometres',\n",
       " '1,330,044,000',\n",
       " 'CN',\n",
       " 'China',\n",
       " 'Beijing',\n",
       " '<a href=\"/places/default/continent/AS\">AS</a>',\n",
       " '.cn',\n",
       " 'CNY',\n",
       " 'Yuan Renminbi',\n",
       " '86',\n",
       " '######',\n",
       " '^(\\\\d{6})$',\n",
       " 'zh-CN,yue,wuu,dta,ug,za',\n",
       " '<div><a href=\"/places/default/iso/LA\">LA </a><a href=\"/places/default/iso/BT\">BT </a><a href=\"/places/default/iso/TJ\">TJ </a><a href=\"/places/default/iso/KZ\">KZ </a><a href=\"/places/default/iso/MN\">MN </a><a href=\"/places/default/iso/AF\">AF </a><a href=\"/places/default/iso/NP\">NP </a><a href=\"/places/default/iso/MM\">MM </a><a href=\"/places/default/iso/KG\">KG </a><a href=\"/places/default/iso/PK\">PK </a><a href=\"/places/default/iso/KP\">KP </a><a href=\"/places/default/iso/RU\">RU </a><a href=\"/places/default/iso/VN\">VN </a><a href=\"/places/default/iso/IN\">IN </a></div>']"
      ]
     },
     "execution_count": 35,
     "metadata": {},
     "output_type": "execute_result"
    }
   ],
   "source": [
    "re.findall('<td class=\"w2p_fw\">(.*?)</td>', html)"
   ]
  },
  {
   "cell_type": "code",
   "execution_count": 36,
   "metadata": {},
   "outputs": [
    {
     "data": {
      "text/plain": [
       "'9,596,960 square kilometres'"
      ]
     },
     "execution_count": 36,
     "metadata": {},
     "output_type": "execute_result"
    }
   ],
   "source": [
    "re.findall('<td class=\"w2p_fw\">(.*?)</td>', html)[1]"
   ]
  },
  {
   "cell_type": "code",
   "execution_count": 38,
   "metadata": {},
   "outputs": [
    {
     "data": {
      "text/plain": [
       "[]"
      ]
     },
     "execution_count": 38,
     "metadata": {},
     "output_type": "execute_result"
    }
   ],
   "source": [
    "re.findall('<tr id=\"places_area__row\"><td class=\"w2p_fl\"><label for=\"places_area\" id=\"places_area__label\">Area: </label></td><td class=\"w2p_fw\">(.*?)</td>', html)"
   ]
  },
  {
   "cell_type": "code",
   "execution_count": 39,
   "metadata": {},
   "outputs": [
    {
     "data": {
      "text/plain": [
       "[]"
      ]
     },
     "execution_count": 39,
     "metadata": {},
     "output_type": "execute_result"
    }
   ],
   "source": [
    "re.findall('<tr id=\"places_area__row\">.*?<td\\s*class=[\"\\']w2p_fw[\"\\']>(.*?)</td>', html)"
   ]
  }
 ],
 "metadata": {
  "kernelspec": {
   "display_name": "Python 2",
   "language": "python",
   "name": "python2"
  },
  "language_info": {
   "codemirror_mode": {
    "name": "ipython",
    "version": 2
   },
   "file_extension": ".py",
   "mimetype": "text/x-python",
   "name": "python",
   "nbconvert_exporter": "python",
   "pygments_lexer": "ipython2",
   "version": "2.7.13"
  }
 },
 "nbformat": 4,
 "nbformat_minor": 2
}
