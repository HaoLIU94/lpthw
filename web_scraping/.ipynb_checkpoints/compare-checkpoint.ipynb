{
 "cells": [
  {
   "cell_type": "code",
   "execution_count": 2,
   "metadata": {
    "collapsed": true
   },
   "outputs": [],
   "source": [
    "#compare among re & BeautifulSoup & lxml\n",
    "FIELDS = ('area', 'population', 'iso', 'country', 'capital',\n",
    "'continent', 'tld', 'currency_code', 'currency_name', 'phone',\n",
    "'postal_code_format', 'postal_code_regex', 'languages',\n",
    "'neighbours')"
   ]
  },
  {
   "cell_type": "code",
   "execution_count": 3,
   "metadata": {
    "collapsed": true
   },
   "outputs": [],
   "source": [
    "import re\n",
    "def re_scraper(html):\n",
    "    results = {}\n",
    "    for field in FIELDS:\n",
    "        results[field] = re.search('<tr id=\"places_%s__row\">.*?<td class=\"w2p_fw\">(.*?)</td>' % field, html).groups()[0]\n",
    "    return results"
   ]
  },
  {
   "cell_type": "code",
   "execution_count": 4,
   "metadata": {
    "collapsed": true
   },
   "outputs": [],
   "source": [
    "from bs4 import BeautifulSoup\n",
    "def bs_scraper(html):\n",
    "    soup = BeautifulSoup(html, 'html.parser')\n",
    "    results = {}\n",
    "    for field in FIELDS:\n",
    "        results[field] = soup.find('table').find('tr',id='places_%s__row' % field).find('td',class_='w2p_fw').text\n",
    "    return results"
   ]
  },
  {
   "cell_type": "code",
   "execution_count": 5,
   "metadata": {
    "collapsed": true
   },
   "outputs": [],
   "source": [
    "import lxml.html\n",
    "def lxml_scraper(html):\n",
    "    tree = lxml.html.fromstring(html)\n",
    "    results = {}\n",
    "    for field in FIELDS:\n",
    "        results[field] = tree.cssselect('table > tr#places_%s__row > td.w2p_fw' % field)[0].text_content()\n",
    "    return results"
   ]
  },
  {
   "cell_type": "code",
   "execution_count": 19,
   "metadata": {
    "collapsed": true
   },
   "outputs": [],
   "source": [
    "import time\n",
    "from download_iteration import download"
   ]
  },
  {
   "cell_type": "code",
   "execution_count": 15,
   "metadata": {},
   "outputs": [
    {
     "name": "stdout",
     "output_type": "stream",
     "text": [
      "Downloading: http://example.webscraping.com/places/default/view/China-47\n"
     ]
    }
   ],
   "source": [
    "NUM_ITERATIONS = 1000 # number of times to test each scraper\n",
    "html = download('http://example.webscraping.com/places/default/view/China-47')"
   ]
  },
  {
   "cell_type": "code",
   "execution_count": 26,
   "metadata": {},
   "outputs": [
    {
     "name": "stdout",
     "output_type": "stream",
     "text": [
      "Regular expressions: 2.24 seconds\n",
      "BeautifulSoup: 20.19 seconds\n",
      "Lxml: 2.82 seconds\n"
     ]
    }
   ],
   "source": [
    "for name, scraper in [('Regular expressions', re_scraper),\n",
    "    ('BeautifulSoup', bs_scraper),\n",
    "    ('Lxml', lxml_scraper)]:\n",
    "    # record start time of scrape\n",
    "    start = time.time()\n",
    "    for i in range(NUM_ITERATIONS):\n",
    "        if scraper == re_scraper:\n",
    "            re.purge()\n",
    "        result = scraper(html)\n",
    "        # check scraped result is as expected\n",
    "        assert(result['area'] == '9,596,960 square kilometres')\n",
    "    # record end time of scrape and output the total\n",
    "    end = time.time()\n",
    "    print '%s: %.2f seconds' % (name, end-start)"
   ]
  },
  {
   "cell_type": "code",
   "execution_count": 23,
   "metadata": {},
   "outputs": [
    {
     "data": {
      "text/plain": [
       "{'area': '9,596,960 square kilometres',\n",
       " 'capital': 'Beijing',\n",
       " 'continent': '<a href=\"/places/default/continent/AS\">AS</a>',\n",
       " 'country': 'China',\n",
       " 'currency_code': 'CNY',\n",
       " 'currency_name': 'Yuan Renminbi',\n",
       " 'iso': 'CN',\n",
       " 'languages': 'zh-CN,yue,wuu,dta,ug,za',\n",
       " 'neighbours': '<div><a href=\"/places/default/iso/LA\">LA </a><a href=\"/places/default/iso/BT\">BT </a><a href=\"/places/default/iso/TJ\">TJ </a><a href=\"/places/default/iso/KZ\">KZ </a><a href=\"/places/default/iso/MN\">MN </a><a href=\"/places/default/iso/AF\">AF </a><a href=\"/places/default/iso/NP\">NP </a><a href=\"/places/default/iso/MM\">MM </a><a href=\"/places/default/iso/KG\">KG </a><a href=\"/places/default/iso/PK\">PK </a><a href=\"/places/default/iso/KP\">KP </a><a href=\"/places/default/iso/RU\">RU </a><a href=\"/places/default/iso/VN\">VN </a><a href=\"/places/default/iso/IN\">IN </a></div>',\n",
       " 'phone': '86',\n",
       " 'population': '1,330,044,000',\n",
       " 'postal_code_format': '######',\n",
       " 'postal_code_regex': '^(\\\\d{6})$',\n",
       " 'tld': '.cn'}"
      ]
     },
     "execution_count": 23,
     "metadata": {},
     "output_type": "execute_result"
    }
   ],
   "source": [
    "re_scraper(html)"
   ]
  },
  {
   "cell_type": "code",
   "execution_count": 24,
   "metadata": {},
   "outputs": [
    {
     "data": {
      "text/plain": [
       "{'area': u'9,596,960 square kilometres',\n",
       " 'capital': u'Beijing',\n",
       " 'continent': u'AS',\n",
       " 'country': u'China',\n",
       " 'currency_code': u'CNY',\n",
       " 'currency_name': u'Yuan Renminbi',\n",
       " 'iso': u'CN',\n",
       " 'languages': u'zh-CN,yue,wuu,dta,ug,za',\n",
       " 'neighbours': u'LA BT TJ KZ MN AF NP MM KG PK KP RU VN IN ',\n",
       " 'phone': u'86',\n",
       " 'population': u'1,330,044,000',\n",
       " 'postal_code_format': u'######',\n",
       " 'postal_code_regex': u'^(\\\\d{6})$',\n",
       " 'tld': u'.cn'}"
      ]
     },
     "execution_count": 24,
     "metadata": {},
     "output_type": "execute_result"
    }
   ],
   "source": [
    "bs_scraper(html)"
   ]
  },
  {
   "cell_type": "code",
   "execution_count": 25,
   "metadata": {},
   "outputs": [
    {
     "data": {
      "text/plain": [
       "{'area': '9,596,960 square kilometres',\n",
       " 'capital': 'Beijing',\n",
       " 'continent': 'AS',\n",
       " 'country': 'China',\n",
       " 'currency_code': 'CNY',\n",
       " 'currency_name': 'Yuan Renminbi',\n",
       " 'iso': 'CN',\n",
       " 'languages': 'zh-CN,yue,wuu,dta,ug,za',\n",
       " 'neighbours': 'LA BT TJ KZ MN AF NP MM KG PK KP RU VN IN ',\n",
       " 'phone': '86',\n",
       " 'population': '1,330,044,000',\n",
       " 'postal_code_format': '######',\n",
       " 'postal_code_regex': '^(\\\\d{6})$',\n",
       " 'tld': '.cn'}"
      ]
     },
     "execution_count": 25,
     "metadata": {},
     "output_type": "execute_result"
    }
   ],
   "source": [
    "lxml_scraper(html)"
   ]
  }
 ],
 "metadata": {
  "kernelspec": {
   "display_name": "Python 2",
   "language": "python",
   "name": "python2"
  },
  "language_info": {
   "codemirror_mode": {
    "name": "ipython",
    "version": 2
   },
   "file_extension": ".py",
   "mimetype": "text/x-python",
   "name": "python",
   "nbconvert_exporter": "python",
   "pygments_lexer": "ipython2",
   "version": "2.7.13"
  }
 },
 "nbformat": 4,
 "nbformat_minor": 2
}
