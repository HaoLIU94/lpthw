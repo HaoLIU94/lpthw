{
 "cells": [
  {
   "cell_type": "code",
   "execution_count": 85,
   "metadata": {
    "collapsed": true
   },
   "outputs": [],
   "source": [
    "import numpy as np\n",
    "import matplotlib.pyplot as plt"
   ]
  },
  {
   "cell_type": "code",
   "execution_count": 42,
   "metadata": {},
   "outputs": [],
   "source": [
    "# Your data in the text file\n",
    "# Value1  Value2  Value3\n",
    "# 0.4839  0.4536  0.3561\n",
    "# 0.1292  0.6875  MISSING\n",
    "# 0.1781  0.3049  0.8928\n",
    "# MISSING 0.5801  0.2038\n",
    "# 0.5993  0.4357  0.7410\n",
    "\n",
    "array = np.genfromtxt('data_sheet.csv',delimiter=',',\n",
    "                      skip_header=1,dtype=np.float32)"
   ]
  },
  {
   "cell_type": "code",
   "execution_count": 47,
   "metadata": {},
   "outputs": [
    {
     "name": "stdout",
     "output_type": "stream",
     "text": [
      "(19659, 16)\n"
     ]
    }
   ],
   "source": [
    "print array.shape"
   ]
  },
  {
   "cell_type": "code",
   "execution_count": 44,
   "metadata": {},
   "outputs": [
    {
     "name": "stdout",
     "output_type": "stream",
     "text": [
      "[ 0.  1.  2.  3.  4.]\n"
     ]
    }
   ],
   "source": [
    "x = np.arange(0.0,5.0,1.0)\n",
    "print x"
   ]
  },
  {
   "cell_type": "code",
   "execution_count": 51,
   "metadata": {},
   "outputs": [
    {
     "name": "stdout",
     "output_type": "stream",
     "text": [
      "2 314544   C_CONTIGUOUS : True\n",
      "  F_CONTIGUOUS : False\n",
      "  OWNDATA : True\n",
      "  WRITEABLE : True\n",
      "  ALIGNED : True\n",
      "  UPDATEIFCOPY : False 4\n"
     ]
    }
   ],
   "source": [
    "print array.ndim,array.size,array.flags,array.itemsize"
   ]
  },
  {
   "cell_type": "code",
   "execution_count": 54,
   "metadata": {},
   "outputs": [
    {
     "name": "stdout",
     "output_type": "stream",
     "text": [
      "19659\n"
     ]
    },
    {
     "data": {
      "text/plain": [
       "array([[  1.17655823e+03,   1.79999365e+03,   2.00000000e+00, ...,\n",
       "          1.50000000e+00,   1.50000000e+01,   1.37000000e+02],\n",
       "       [  6.59892029e+02,   1.80001331e+03,   1.00000000e+00, ...,\n",
       "          2.34375000e+00,   1.50000000e+01,   3.70000000e+01],\n",
       "       [  6.39995361e+02,   1.80001331e+03,   1.00000000e+00, ...,\n",
       "          7.90000021e-01,   1.60000000e+01,   3.40000000e+01],\n",
       "       ..., \n",
       "       [  5.99927795e+02,   1.79999365e+03,   2.00000000e+00, ...,\n",
       "          2.51260495e+00,   1.40000000e+01,   1.02000000e+02],\n",
       "       [  7.11115906e+02,   1.79999365e+03,   2.00000000e+00, ...,\n",
       "          1.00000000e+00,   3.10000000e+01,   9.00000000e+01],\n",
       "       [  8.20081360e+02,   1.80001331e+03,   1.00000000e+00, ...,\n",
       "          1.00000000e+00,   3.90000000e+01,   5.90000000e+01]], dtype=float32)"
      ]
     },
     "execution_count": 54,
     "metadata": {},
     "output_type": "execute_result"
    }
   ],
   "source": [
    "print len(array)\n",
    "array.astype(np.float32)"
   ]
  },
  {
   "cell_type": "code",
   "execution_count": 75,
   "metadata": {},
   "outputs": [
    {
     "name": "stdout",
     "output_type": "stream",
     "text": [
      "8.98318e+06\n"
     ]
    }
   ],
   "source": [
    "print array.mean()\n",
    "x = array[:,0:15]\n",
    "y = array[:,15:]"
   ]
  },
  {
   "cell_type": "code",
   "execution_count": 76,
   "metadata": {
    "scrolled": true
   },
   "outputs": [
    {
     "name": "stdout",
     "output_type": "stream",
     "text": [
      "(19659, 16)\n",
      "(19659, 15) (19659, 1)\n"
     ]
    }
   ],
   "source": [
    "print array.shape\n",
    "print x.shape,y.shape"
   ]
  },
  {
   "cell_type": "code",
   "execution_count": 79,
   "metadata": {},
   "outputs": [
    {
     "name": "stdout",
     "output_type": "stream",
     "text": [
      "(16, 19659)\n"
     ]
    }
   ],
   "source": [
    "#np.info(np.ndarray.dtype)\n",
    "array1 = array.transpose()\n",
    "print array1.shape"
   ]
  },
  {
   "cell_type": "code",
   "execution_count": 83,
   "metadata": {},
   "outputs": [
    {
     "name": "stdout",
     "output_type": "stream",
     "text": [
      "(19659, 16)\n"
     ]
    }
   ],
   "source": [
    "tout = np.append(x,y,axis=1)\n",
    "print tout.shape"
   ]
  },
  {
   "cell_type": "code",
   "execution_count": 84,
   "metadata": {
    "scrolled": true
   },
   "outputs": [
    {
     "name": "stdout",
     "output_type": "stream",
     "text": [
      "(array([312609,   1108,    345,    197,    151,     59,     35,     27,\n",
      "           10,      3]), array([  0.00000000e+00,   2.02064000e+08,   4.04128000e+08,\n",
      "         6.06192000e+08,   8.08256000e+08,   1.01032000e+09,\n",
      "         1.21238400e+09,   1.41444800e+09,   1.61651200e+09,\n",
      "         1.81857600e+09,   2.02064000e+09]))\n"
     ]
    }
   ],
   "source": [
    "print np.histogram(tout)"
   ]
  },
  {
   "cell_type": "code",
   "execution_count": 92,
   "metadata": {},
   "outputs": [
    {
     "data": {
      "image/png": "[encoded data removed]",
      "text/plain": [
       "<matplotlib.figure.Figure at 0x7fede13ec890>"
      ]
     },
     "metadata": {},
     "output_type": "display_data"
    }
   ],
   "source": [
    "plt.hist(array,bins=range(0,50))\n",
    "plt.show()"
   ]
  }
 ],
 "metadata": {
  "kernelspec": {
   "display_name": "Python 2",
   "language": "python",
   "name": "python2"
  },
  "language_info": {
   "codemirror_mode": {
    "name": "ipython",
    "version": 2
   },
   "file_extension": ".py",
   "mimetype": "text/x-python",
   "name": "python",
   "nbconvert_exporter": "python",
   "pygments_lexer": "ipython2",
   "version": "2.7.13"
  }
 },
 "nbformat": 4,
 "nbformat_minor": 2
}
